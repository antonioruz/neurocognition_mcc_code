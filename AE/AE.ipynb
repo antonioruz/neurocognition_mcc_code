{
  "cells": [
    {
      "attachments": {},
      "cell_type": "markdown",
      "metadata": {
        "id": "p8HOfNQAnHRF"
      },
      "source": [
        "# Cálculo de armónicos esféricos utilizando computación cuántica.   \n",
        "## TFE: Computación cuántica aplciada al análisis espacial en electroencefalografía   \n",
        "## Master universitario en computación cuántica (UNIR)   \n",
        "### Francisco Vidal Requejo   \n",
        "### Antonio José Ruz Hervás   \n",
        "\n",
        "En este notebook se desarrolla el modelo teórico propuesto en el trabajo para la evaluación de armónicos esféricos mediante la utilización de computación cuántica.\n",
        "\n",
        "Primeramente, es necesario instalar la librería \"pennylane\", que será utilizada para los circuitos cuánticos."
      ]
    },
    {
      "cell_type": "code",
      "execution_count": 9,
      "metadata": {
        "id": "FS9XCb4rtROI"
      },
      "outputs": [
        {
          "name": "stdout",
          "output_type": "stream",
          "text": [
            "Note: you may need to restart the kernel to use updated packages.\n"
          ]
        },
        {
          "name": "stderr",
          "output_type": "stream",
          "text": [
            "WARNING: Ignoring invalid distribution -ip (c:\\python310\\lib\\site-packages)\n",
            "WARNING: Ignoring invalid distribution -ip (c:\\python310\\lib\\site-packages)\n",
            "WARNING: Ignoring invalid distribution -ip (c:\\python310\\lib\\site-packages)\n",
            "WARNING: Ignoring invalid distribution -ip (c:\\python310\\lib\\site-packages)\n",
            "WARNING: Ignoring invalid distribution -ip (c:\\python310\\lib\\site-packages)\n",
            "WARNING: Ignoring invalid distribution -ip (c:\\python310\\lib\\site-packages)\n"
          ]
        }
      ],
      "source": [
        "%pip install pennylane > o"
      ]
    },
    {
      "attachments": {},
      "cell_type": "markdown",
      "metadata": {},
      "source": [
        "Importación de librerías utilizadas en este archivo."
      ]
    },
    {
      "cell_type": "code",
      "execution_count": 10,
      "metadata": {
        "id": "xFhT0Ylnm-Yo"
      },
      "outputs": [],
      "source": [
        "import pennylane as qml\n",
        "from pennylane import numpy as np\n",
        "import math\n",
        "import sympy as sp\n",
        "from scipy.special import lpmv\n",
        "from scipy.special import sph_harm\n"
      ]
    },
    {
      "attachments": {},
      "cell_type": "markdown",
      "metadata": {},
      "source": [
        "Ángulos utilizados para el cálculo de los armónicos esféricos. La primera coordenada corresponde con la coordenada azimutal y la segunda con la polar. Estos ángulos se corresponden con la posición de 64 electrodos de un EEG utilizando el \"sistema 10-10\" para elegir la posición de los mismos, considerando la cabeza como una esfera."
      ]
    },
    {
      "cell_type": "code",
      "execution_count": 39,
      "metadata": {},
      "outputs": [
        {
          "data": {
            "text/plain": [
              "64"
            ]
          },
          "execution_count": 39,
          "metadata": {},
          "output_type": "execute_result"
        }
      ],
      "source": [
        "angles = [['Fc5.',-71,-21],\n",
        " ['Fc3.',-50,-28],\n",
        " ['Fc1.',-32,-45],\n",
        " ['Fcz.',23,90],\n",
        " ['Fc2.',32,45],\n",
        " ['Fc4.',50,28],\n",
        " ['Fc6.',71,21],\n",
        " ['C5..',-69,0],\n",
        " ['C3..',-46,0],\n",
        " ['C1..',23,0],\n",
        " ['Cz..',0,0],\n",
        " ['C2..',23,0],\n",
        " ['C4..',46,0],\n",
        " ['C6..',69,0],\n",
        " ['Cp5.',-71,21],\n",
        " ['Cp3.',-50,28],\n",
        " ['Cp1.',-32,45],\n",
        " ['Cpz.',23,-90],\n",
        " ['Cp2.',32,-45],\n",
        " ['Cp4.',50,-28],\n",
        " ['Cp6.',71,-21],\n",
        " ['Fp1.',-92,-72],\n",
        " ['Fpz.',92,90],\n",
        " ['Fp2.',92,72],\n",
        " ['Af7.',-92,-52],\n",
        " ['Af3.',-74,-67],\n",
        " ['Afz.',69,90],\n",
        " ['Af4.',74,67],\n",
        " ['Af8.',92,52],\n",
        " ['F7..',-92,-36],\n",
        " ['F5..',-75,-41],\n",
        " ['F3..',-60,-51],\n",
        " ['F1..',-50,-68],\n",
        " ['Fz..',46,90],\n",
        " ['F2..',50,68],\n",
        " ['F4..',60,51],\n",
        " ['F6..',75,41],\n",
        " ['F8..',92,36],\n",
        " ['Ft7.',-92,-18],\n",
        " ['Ft8.',92,18],\n",
        " ['T7..',-92,0],\n",
        " ['T8..',92,0],\n",
        " ['T9..',-115,0],\n",
        " ['T10.',115,0],\n",
        " ['Tp7.',-92,18],\n",
        " ['Tp8.',92,-18],\n",
        " ['P7..',-92,36],\n",
        " ['P5..',-75,41],\n",
        " ['P3..',-60,51],\n",
        " ['P1..',-50,68],\n",
        " ['Pz..',46,-90],\n",
        " ['P2..',50,-68],\n",
        " ['P4..',60,-51],\n",
        " ['P6..',75,-41],\n",
        " ['P8..',92,-36],\n",
        " ['Po7.',-92,54],\n",
        " ['Po3.',-74,67],\n",
        " ['Poz.',69,-90],\n",
        " ['Po4.',74,-67],\n",
        " ['Po8.',92,-54],\n",
        " ['O1..',-92,72],\n",
        " ['Oz..',92,-90],\n",
        " ['O2..',92,-72],\n",
        " ['Iz..',115,-90]\n",
        " ]\n",
        "\n",
        "#Versión de los ángulos en radianes.\n",
        "anglesRad = []\n",
        "piFactor = math.pi/180\n",
        "for x in angles:\n",
        "    anglesRad.append([x[0], x[1] * piFactor, x[2] * piFactor])\n",
        "\n"
      ]
    },
    {
      "cell_type": "code",
      "execution_count": 34,
      "metadata": {
        "id": "VdDJ-dkOorDS"
      },
      "outputs": [],
      "source": [
        "dev = qml.device (\"default.qubit\", wires = nCubits)\n",
        "\n",
        "@qml.qnode(dev)\n",
        "def CircuitoCoseno(theta, nCubits = 3):\n",
        "  \"\"\"\n",
        "  Implementar un circuito cuántico con una puerta de ratación sobre el eje Y para todos los cúbits. El mismo ángulo se aplica a todos los cúbits.\n",
        "  Parámetros:\n",
        "    theta: Ángulo en radianes que se quiere aplicar en una rotación sobre el eje Y.\n",
        "    nCubits: Cantidad de cúbits del circuito\n",
        "\n",
        "  Retorno:\n",
        "    Array de probabilidades de cada uno de los estados.\n",
        "  \"\"\"\n",
        "  for i in range(nCubits):\n",
        "    qml.RY(theta, wires = i)\n",
        "  return qml.probs(wires=range(nCubits))\n",
        "\n",
        "def CircuitoSeno(theta, nCubits=3):\n",
        "  \"\"\"\n",
        "  Implementar un circuito cuántico con una puerta de rotación de pi/2 - theta sobre el eje Y para todos los cúbits. El mismo ángulo se aplica a todos los cúbits.\n",
        "  Parámetros:\n",
        "    theta: Ángulo en radianes que se quiere aplicar como una rotación pi/2 - theta sobre el eje Y.\n",
        "    nCubits: Cantidad de cúbits del circuito\n",
        "\n",
        "  Retorno:\n",
        "    Array de probabilidades de cada uno de los estados.\n",
        "  \"\"\"\n",
        "  return CircuitoCoseno((math.pi/2) - theta, nCubits)\n",
        "\n",
        "def ExpPhi(phi, m):\n",
        "  \"\"\"\n",
        "  Obtener el valor en coordenadas cartesianas de un número complejo en forma polar de la manera e^{im} a través de dos circuitos cuánticos de un único cúbit utilizando la igualdad e^{im} = cos(im) + i·sen(im) .\n",
        "\n",
        "  Parámetros:\n",
        "    phi: el ángulo base\n",
        "    m: valor a multiplicar al ángulo.\n",
        "\n",
        "  Retorno:\n",
        "    Una tupla con el valor real e imagino del número complejo en coordenadas cartesianas.\n",
        "  \"\"\"\n",
        "  C = CircuitoCoseno(phi * m, 1)\n",
        "  S = CircuitoSeno(phi * m, 1)\n",
        "  return (C[0] - C[1], S[0] - S[1])\n",
        "\n",
        "\n",
        "def EvalAsocLegendre4(theta):\n",
        "  \"\"\"\n",
        "  Evaluar los Polinomios asociados de legendre en un ángulo dado utilizando un circutio de 4 cúbits. Esto generará todos los polinomios asociados de Legendre hasta l = 4.\n",
        "\n",
        "  Parámetros: \n",
        "    theta: ángulo en radiantes sobre el cual calcular los polinomios asociados de Legendre.\n",
        "\n",
        "  Retorno:\n",
        "    Un diccionario en el que cada elemento tiene una etiqueta de la forma \"P_l_m\" indicando el polinomio asociado de Legendre al que hace referencia y cuyo valor es el resultado de la evaluación de dicho polinómio sobre el ángulo dado.\n",
        "  \"\"\"\n",
        "  nCubits = 4\n",
        "  C = CircuitoCoseno(theta, nCubits)\n",
        "  S = CircuitoSeno(theta, nCubits)\n",
        "  PolinomiosLegendre = {'P_0_0': 1}\n",
        "  PolinomiosLegendre['P_1_0']= C[0] + 2*C[1] -2*C[7] -C[15]\n",
        "  PolinomiosLegendre['P_1_1']= -S[0] - 2*S[1] + 2*S[7] + S[15]\n",
        "  PolinomiosLegendre['P_2_0']= (3*(C[0] - 2*C[3] + C[15]) - 1)/2\n",
        "  PolinomiosLegendre['P_2_1']= 3*(C[0] + 2*C[1] - 2*C[7] - C[15])*(-S[0] -2*S[1] + 2*S[7] + S[15])\n",
        "  PolinomiosLegendre['P_2_2']= 3*(S[0] - 2*S[3] + S[15])\n",
        "  PolinomiosLegendre['P_3_0']= C[0] - 8*C[1] + 8*C[7] - C[15]\n",
        "  PolinomiosLegendre['P_3_1']= -(3/2)*(-S[0] + 18*S[1] -18*S[7] + S[15])\n",
        "  PolinomiosLegendre['P_3_2']= 15*(4*C[1] - 4*C[7])\n",
        "  PolinomiosLegendre['P_3_3']= -15*(S[0] -2*S[1] + 2*S[7] - S[15])\n",
        "  PolinomiosLegendre['P_4_0']= (1/8)*(5*C[0] - 140*C[1] + 270*C[3] -140*C[7] + 5*C[15] + 3)\n",
        "  PolinomiosLegendre['P_4_1']= -(5/2)*(7*(C[0] +2*C[1] -2*C[7] - C[15])*(4*S[1]-4*S[7]) + 3*(C[0]+2*C[1]-2*C[7]-C[15])*(-S[0]-2*S[1]+2*S[7]+S[15]))\n",
        "  PolinomiosLegendre['P_4_2'] = (15/2)*(56*C[1] - 112*C[3] + 56*C[7] - S[0] - 28*S[1] + 58*S[3] - 28*S[7] - S[15])\n",
        "  PolinomiosLegendre['P_4_3'] = -105*(C[0] + 2*C[1] - 2*C[7] - C[15])*(S[0] - 2*S[1] + 2*S[7] - S[15])\n",
        "  PolinomiosLegendre['P_4_4'] = 105*(S[0] - 4*S[1] + 6*S[3] - 4*S[7] + S[15])\n",
        "\n",
        "  #Polinomios de \"m\" negativo\n",
        "  for l in range(1, nCubits + 1):\n",
        "    for m in range(1, l+1):\n",
        "      PolinomiosLegendre['P_' + str(l) + '_-' + str(m)] = ((-1)**(m) * (math.factorial(l-m)/math.factorial(l+m))) * PolinomiosLegendre['P_' + str(l) + '_' + str(m)]\n",
        "  return PolinomiosLegendre\n",
        "\n",
        "def EvalEsfericos4(theta, phi):\n",
        "  \"\"\"\n",
        "  Realiza la evaluación de armónicos esféricos mediante cirucitos cuánticos de 4 cubits. Se obtiene el resultado de evalluar los armónicos esféricos para los ángulos dados hasta l = 4.\n",
        "\n",
        "  Parámetros:\n",
        "    theta: ángulo én radianes de la coordenada polar.\n",
        "    phi: ángulo en radianes de la coordenada azimutal.\n",
        "\n",
        "  Retorno:\n",
        "    Un diccionario en el que cada elemento tiene una etiqueta de la forma \"Y_l_m\" indicando el armónico esférico al que hace referencia y cuyo valor es el resultado de la evaluación de dicho armónico esféricos sobre los ángulos dados.\n",
        "  \"\"\"\n",
        "  l = 4\n",
        "  legendre = EvalAsocLegendre4(theta)\n",
        "  AE = {}\n",
        "  for k in range(l+1):\n",
        "    for m in range(-k, k+1):\n",
        "      coef =  math.sqrt(((2*k + 1)*math.factorial(k - (m))) / (4*math.pi * math.factorial(k+(m)))) #Coeficiente de normalización\n",
        "      e = ExpPhi(phi, (m))\n",
        "      legendre_normalizado = (coef *  legendre['P_' + str(k) + '_' + str(m)])\n",
        "      AE['Y_' + str(k) + '_' + str(m)] = ( legendre_normalizado * e[0], legendre_normalizado * e[1])\n",
        "  \n",
        "  return AE"
      ]
    },
    {
      "cell_type": "code",
      "execution_count": 35,
      "metadata": {},
      "outputs": [
        {
          "name": "stdout",
          "output_type": "stream",
          "text": [
            "0.28209479177387814 0.0\n",
            "0.18296548340389993 -0.0881115329251683\n",
            "0.3952877356237497 0.0\n",
            "-0.18296548340389993 -0.08811153292516832\n",
            "0.08320749142747604 -0.10433889404646438\n",
            "0.3309876688616823 -0.15939526046205713\n",
            "0.3038878129445756 0.0\n",
            "-0.3309876688616823 -0.15939526046205718\n",
            "0.08320749142747604 0.10433889404646438\n",
            "0.018853675536764813 -0.0826033497217849\n",
            "0.17810212184279134 -0.22333299684443061\n",
            "0.38894232429676284 -0.18730475156132773\n",
            "0.08228221038686168 0.0\n",
            "-0.38894232429676284 -0.18730475156132778\n",
            "0.17810212184279137 0.22333299684443067\n",
            "-0.018853675536764813 -0.0826033497217849\n",
            "-0.011754143143792861 -0.05149826594253829\n",
            "0.045758831747021826 -0.20048254115166317\n",
            "0.2580864647152372 -0.3236301904404923\n",
            "0.3205626929630729 -0.15437485666760664\n",
            "-0.1736900156399915 -0.0\n",
            "-0.3205626929630728 -0.15437485666760667\n",
            "0.25808646471523716 0.3236301904404923\n",
            "-0.045758831747021826 -0.2004825411516632\n",
            "-0.011754143143792865 0.0514982659425383\n"
          ]
        }
      ],
      "source": [
        "AE = EvalEsfericos4(theta, phi)\n",
        "for armonicos in AE.values():\n",
        "    print(armonicos[0], armonicos[1])"
      ]
    },
    {
      "cell_type": "code",
      "execution_count": 17,
      "metadata": {},
      "outputs": [
        {
          "data": {
            "text/plain": [
              "array([ 0.28209479+0.j        ,  0.18296548-0.08811153j,\n",
              "        0.39528774+0.j        , -0.18296548-0.08811153j,\n",
              "        0.08320749-0.10433889j,  0.33098767-0.15939526j,\n",
              "        0.30388781+0.j        , -0.33098767-0.15939526j,\n",
              "        0.08320749+0.10433889j,  0.01885368-0.08260335j,\n",
              "        0.17810212-0.223333j  ,  0.38894232-0.18730475j,\n",
              "        0.08228221+0.j        , -0.38894232-0.18730475j,\n",
              "        0.17810212+0.223333j  , -0.01885368-0.08260335j,\n",
              "       -0.01175414-0.05149827j,  0.04575883-0.20048254j,\n",
              "        0.25808646-0.32363019j,  0.32056269-0.15437486j,\n",
              "       -0.17369002+0.j        , -0.32056269-0.15437486j,\n",
              "        0.25808646+0.32363019j, -0.04575883-0.20048254j,\n",
              "       -0.01175414+0.05149827j])"
            ]
          },
          "execution_count": 17,
          "metadata": {},
          "output_type": "execute_result"
        }
      ],
      "source": [
        "m = [0,-1,0,1,-2, -1,0,1,2,-3,-2,-1,0,1,2,3,-4,-3,-2,-1,0,1,2,3,4]\n",
        "v = [0, 1,1,1, 2, 2,2,2,2, 3, 3, 3,3,3,3,3, 4, 4, 4, 4,4,4,4,4,4]\n",
        "x = []\n",
        "for i in range(15):\n",
        "    x.append(math.cos(theta))\n",
        "\n",
        "sph = sph_harm(m, v, phi, theta)\n",
        "sph"
      ]
    }
  ],
  "metadata": {
    "colab": {
      "provenance": []
    },
    "kernelspec": {
      "display_name": "Python 3",
      "name": "python3"
    },
    "language_info": {
      "codemirror_mode": {
        "name": "ipython",
        "version": 3
      },
      "file_extension": ".py",
      "mimetype": "text/x-python",
      "name": "python",
      "nbconvert_exporter": "python",
      "pygments_lexer": "ipython3",
      "version": "3.10.7"
    }
  },
  "nbformat": 4,
  "nbformat_minor": 0
}
