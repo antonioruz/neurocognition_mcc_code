{
  "cells": [
    {
      "attachments": {},
      "cell_type": "markdown",
      "metadata": {
        "id": "p8HOfNQAnHRF"
      },
      "source": [
        "# Cálculo de armónicos esféricos utilizando computación cuántica.   \n",
        "## TFE: Computación cuántica aplciada al análisis espacial en electroencefalografía   \n",
        "## Master universitario en computación cuántica (UNIR)   \n",
        "### Francisco Vidal Requejo   \n",
        "### Antonio José Ruz Hervás   \n"
      ]
    },
    {
      "cell_type": "code",
      "execution_count": 6,
      "metadata": {
        "id": "FS9XCb4rtROI"
      },
      "outputs": [
        {
          "name": "stdout",
          "output_type": "stream",
          "text": [
            "Note: you may need to restart the kernel to use updated packages.\n"
          ]
        },
        {
          "name": "stderr",
          "output_type": "stream",
          "text": [
            "WARNING: Ignoring invalid distribution -ip (c:\\python310\\lib\\site-packages)\n",
            "WARNING: Ignoring invalid distribution -ip (c:\\python310\\lib\\site-packages)\n",
            "WARNING: Ignoring invalid distribution -ip (c:\\python310\\lib\\site-packages)\n",
            "WARNING: Ignoring invalid distribution -ip (c:\\python310\\lib\\site-packages)\n",
            "WARNING: Ignoring invalid distribution -ip (c:\\python310\\lib\\site-packages)\n",
            "WARNING: Ignoring invalid distribution -ip (c:\\python310\\lib\\site-packages)\n"
          ]
        }
      ],
      "source": [
        "%pip install pennylane > o"
      ]
    },
    {
      "cell_type": "code",
      "execution_count": 2,
      "metadata": {
        "id": "xFhT0Ylnm-Yo"
      },
      "outputs": [],
      "source": [
        "import pennylane as qml\n",
        "from pennylane import numpy as np\n",
        "import math\n",
        "import sympy as sp"
      ]
    },
    {
      "cell_type": "code",
      "execution_count": 3,
      "metadata": {
        "id": "MK56XFtdof-D"
      },
      "outputs": [],
      "source": [
        "nCubits = 4"
      ]
    },
    {
      "cell_type": "code",
      "execution_count": 78,
      "metadata": {
        "id": "VdDJ-dkOorDS"
      },
      "outputs": [],
      "source": [
        "dev = qml.device (\"default.qubit\", wires = nCubits)\n",
        "\n",
        "@qml.qnode(dev)\n",
        "def CircuitoCoseno(theta, nCubits = 3):\n",
        "  \"\"\"\n",
        "  Implementar un circuito cuántico con una puerta de ratación sobre el eje Y para todos los cúbits. El mismo ángulo se aplica a todos los cúbits.\n",
        "  Parámetros:\n",
        "    theta: Ángulo en radianes que se quiere aplicar en una rotación sobre el eje Y.\n",
        "    nCubits: Cantidad de cúbits del circuito\n",
        "\n",
        "  Retorno:\n",
        "    Array de probabilidades de cada uno de los estados.\n",
        "  \"\"\"\n",
        "  for i in range(nCubits):\n",
        "    qml.RY(theta, wires = i)\n",
        "  return qml.probs(wires=range(nCubits))\n",
        "\n",
        "def CircuitoSeno(theta, nCubits=3):\n",
        "  \"\"\"\n",
        "  Implementar un circuito cuántico con una puerta de rotación de pi/2 - theta sobre el eje Y para todos los cúbits. El mismo ángulo se aplica a todos los cúbits.\n",
        "  Parámetros:\n",
        "    theta: Ángulo en radianes que se quiere aplicar como una rotación pi/2 - theta sobre el eje Y.\n",
        "    nCubits: Cantidad de cúbits del circuito\n",
        "\n",
        "  Retorno:\n",
        "    Array de probabilidades de cada uno de los estados.\n",
        "  \"\"\"\n",
        "  return CircuitoCoseno((math.pi/2) - theta, nCubits)\n",
        "\n",
        "def ExpPhi(phi, m):\n",
        "  \"\"\"\n",
        "  Obtener el valor en coordenadas cartesianas de un número complejo en forma polar de la manera e^{im} a través de dos circuitos cuánticos de un único cúbit utilizando la igualdad e^{im} = cos(im) + i·sen(im) .\n",
        "\n",
        "  Parámetros:\n",
        "    phi: el ángulo base\n",
        "    m: valor a multiplicar al ángulo.\n",
        "\n",
        "  Retorno:\n",
        "    Una tupla con el valor real e imagino del número complejo en coordenadas cartesianas.\n",
        "  \"\"\"\n",
        "  C = CircuitoCoseno(phi * m, 1)\n",
        "  S = CircuitoSeno(phi * m, 1)\n",
        "  return (C[0] - C[1], S[0] - S[1])\n",
        "\n",
        "def ProductosPotencias(theta, nCubits):\n",
        "  \"\"\"\n",
        "  Obtener una matriz con la evaluación de los términos cos^k(theta)·sen^l(theta) con l+k = n.\n",
        "  \n",
        "  Parámetros:\n",
        "    theta: el ángulo a aplicar a las funciones trigonométricas.\n",
        "    nCubits: cantida de cúbits a utilizar, esto es el n = k+l.\n",
        "\n",
        "  Retorno:\n",
        "    Matriz con los terminos cos^k(theta)·sen^l(theta) con l+k = n.\n",
        "  \"\"\"\n",
        "  C = CircuitoCoseno(theta, nCubits)\n",
        "  S = CircuitoSeno(theta, nCubits)\n",
        "  cos, sen = sp.symbols(\"cos sen\")\n",
        "\n",
        "def ExtraerTerminosBinomio(probsArray, nCubits = 3):\n",
        "  \"\"\"\n",
        "  Extrae el valor los terminos de la expansión de la potencia de binomios (cos{theta}+bsen{theta})^n a partir de la matriz de probalidades obtenida de un circuito cuántico que aplica la misma rotación a toodos los cúbits.\n",
        "\n",
        "  Parámetros:\n",
        "    probArray: el array de probabilidades.\n",
        "    nCubits: cantidad de cúbits del circuito del que se ha obtenido e array\n",
        "  \n",
        "  Retorno:\n",
        "    Array de tuplas en las que el primer término es un simbolo de sympy con la expresión del témino binomial y el segundo es el valor.\n",
        "  \"\"\"\n",
        "  cos, sen = sp.symbols(\"cos sen\")\n",
        "  res = []\n",
        "  for i in range(nCubits +1):\n",
        "    potenciaCoseno = cos**((nCubits - i)* 2) #como es un valor de problabilidad se multiplica por 2 cada potencia\n",
        "    potenciaSeno = sen**(i * 2)\n",
        "    res.append((potenciaCoseno * potenciaSeno, probsArray[2**(i) -1]))\n",
        "  print(res)\n",
        "  return res\n",
        "\n",
        "def PotenciasCoseno(theta, terminosBinomio, nCubits = 3):\n",
        "  \"\"\"\n",
        "  Obener el valor del coseno a la 'n' potencia para el ángulo 'theta'. El resultado es una lista con todas las potencias del coseno de 0 a nCubits\n",
        "  \"\"\"\n",
        "  cos, sen = sp.symbols(\"cos sen\")\n",
        "  c = cos**2\n",
        "  s = sen**2\n",
        "  arr = []\n",
        "  for i in range(nCubits):  #Expansión de los distintos terminos (c+s)^k(c-s)^l con k+l = nCubits.\n",
        "    potenciaSuma = (c + s)**(nCubits-i - 1)\n",
        "    potenciaResta = (c - s)**(i + 1)\n",
        "    productoPotencias = potenciaSuma * potenciaResta\n",
        "    arr.append(productoPotencias.expand())\n",
        "  res = []\n",
        "  for potencia, i in zip(arr, range(nCubits)): #Sustitución de los valores obtenidos del cicuito cuántico en la expansión calculada\n",
        "    for termino in terminosBinomio:\n",
        "      potencia.subs(termino[0], termino[1])\n",
        "    res.append((cos**i, potencia))\n",
        "  return res"
      ]
    },
    {
      "cell_type": "code",
      "execution_count": 65,
      "metadata": {
        "colab": {
          "base_uri": "https://localhost:8080/"
        },
        "id": "CMxV1f1wuEFw",
        "outputId": "2e4b3bc4-eab0-409f-85c4-2c5891f598ae"
      },
      "outputs": [
        {
          "data": {
            "text/latex": [
              "$\\displaystyle cos^{8} - 2 cos^{2} sen^{6} - sen^{8} + 2$"
            ],
            "text/plain": [
              "cos**8 - 2*cos**2*sen**6 - sen**8 + 2"
            ]
          },
          "execution_count": 65,
          "metadata": {},
          "output_type": "execute_result"
        }
      ],
      "source": [
        "#c = cos^2(theta/2)\n",
        "#s = sen^2(theta/2)\n",
        "cos, sen = sp.symbols(\"cos sen\")\n",
        "#c, s = sp.symbols(\"c s\")\n",
        "c = cos**2\n",
        "s = sen**2\n",
        "arr = []\n",
        "for i in range(nCubits):\n",
        "  potenciaSuma = (c + s)**(nCubits-i - 1)\n",
        "  potenciaResta = (c - s)**(i + 1)\n",
        "  productoPotencias = potenciaSuma * potenciaResta\n",
        "  arr.append(productoPotencias.expand())\n",
        "arr[0].subs(cos**6*sen**2, 1)"
      ]
    },
    {
      "cell_type": "code",
      "execution_count": 79,
      "metadata": {},
      "outputs": [
        {
          "name": "stdout",
          "output_type": "stream",
          "text": [
            "[(cos**8, tensor(0.6693459, requires_grad=True)), (cos**6*sen**2, tensor(0.07066473, requires_grad=True)), (cos**4*sen**4, tensor(0.00746027, requires_grad=True)), (cos**2*sen**6, tensor(0.0007876, requires_grad=True)), (sen**8, tensor(8.31493604e-05, requires_grad=True))]\n",
            "[(cos**8, tensor(0.3972346, requires_grad=True)), (cos**6*sen**2, tensor(0.10312853, requires_grad=True)), (cos**4*sen**4, tensor(0.02677384, requires_grad=True)), (cos**2*sen**6, tensor(0.00695092, requires_grad=True)), (sen**8, tensor(0.00180457, requires_grad=True))]\n",
            "[(cos**8, tensor(0.6693459, requires_grad=True)), (cos**6*sen**2, tensor(0.07066473, requires_grad=True)), (cos**4*sen**4, tensor(0.00746027, requires_grad=True)), (cos**2*sen**6, tensor(0.0007876, requires_grad=True)), (sen**8, tensor(8.31493604e-05, requires_grad=True))]\n"
          ]
        }
      ],
      "source": [
        "theta = math.pi/5\n",
        "C = CircuitoCoseno(theta, 4)\n",
        "S = CircuitoSeno(theta, 4)\n",
        "\n",
        "termC = ExtraerTerminosBinomio(C, 4)\n",
        "termS = ExtraerTerminosBinomio(S, 4)\n",
        "\n",
        "arrPotencias = PotenciasCoseno(theta, termC,4)\n",
        "\n",
        "print(termC)\n"
      ]
    },
    {
      "cell_type": "code",
      "execution_count": 81,
      "metadata": {},
      "outputs": [
        {
          "data": {
            "text/plain": [
              "0.11936437851565787"
            ]
          },
          "execution_count": 81,
          "metadata": {},
          "output_type": "execute_result"
        }
      ],
      "source": [
        "math.sin(theta)**4"
      ]
    }
  ],
  "metadata": {
    "colab": {
      "provenance": []
    },
    "kernelspec": {
      "display_name": "Python 3",
      "name": "python3"
    },
    "language_info": {
      "codemirror_mode": {
        "name": "ipython",
        "version": 3
      },
      "file_extension": ".py",
      "mimetype": "text/x-python",
      "name": "python",
      "nbconvert_exporter": "python",
      "pygments_lexer": "ipython3",
      "version": "3.10.7"
    }
  },
  "nbformat": 4,
  "nbformat_minor": 0
}
