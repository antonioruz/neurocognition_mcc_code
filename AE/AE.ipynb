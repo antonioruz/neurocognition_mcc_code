{
  "cells": [
    {
      "attachments": {},
      "cell_type": "markdown",
      "metadata": {
        "id": "p8HOfNQAnHRF"
      },
      "source": [
        "# Cálculo de armónicos esféricos utilizando computación cuántica.   \n",
        "## TFE: Computación cuántica aplciada al análisis espacial en electroencefalografía   \n",
        "## Master universitario en computación cuántica (UNIR)   \n",
        "### Francisco Vidal Requejo   \n",
        "### Antonio José Ruz Hervás   \n"
      ]
    },
    {
      "cell_type": "code",
      "execution_count": 1,
      "metadata": {
        "id": "FS9XCb4rtROI"
      },
      "outputs": [
        {
          "name": "stdout",
          "output_type": "stream",
          "text": [
            "Note: you may need to restart the kernel to use updated packages.\n"
          ]
        },
        {
          "name": "stderr",
          "output_type": "stream",
          "text": [
            "WARNING: Ignoring invalid distribution -ip (c:\\python310\\lib\\site-packages)\n",
            "WARNING: Ignoring invalid distribution -ip (c:\\python310\\lib\\site-packages)\n",
            "WARNING: Ignoring invalid distribution -ip (c:\\python310\\lib\\site-packages)\n",
            "WARNING: Ignoring invalid distribution -ip (c:\\python310\\lib\\site-packages)\n",
            "WARNING: Ignoring invalid distribution -ip (c:\\python310\\lib\\site-packages)\n",
            "WARNING: Ignoring invalid distribution -ip (c:\\python310\\lib\\site-packages)\n"
          ]
        }
      ],
      "source": [
        "%pip install pennylane > o"
      ]
    },
    {
      "cell_type": "code",
      "execution_count": 2,
      "metadata": {
        "id": "xFhT0Ylnm-Yo"
      },
      "outputs": [],
      "source": [
        "import pennylane as qml\n",
        "from pennylane import numpy as np\n",
        "import math\n",
        "import sympy as sp\n",
        "from scipy.special import lpmv\n",
        "from scipy.special import sph_harm\n"
      ]
    },
    {
      "cell_type": "code",
      "execution_count": 3,
      "metadata": {
        "id": "MK56XFtdof-D"
      },
      "outputs": [],
      "source": [
        "nCubits = 4\n",
        "theta = math.pi/5\n",
        "phi = math.pi/7"
      ]
    },
    {
      "cell_type": "code",
      "execution_count": 151,
      "metadata": {
        "id": "VdDJ-dkOorDS"
      },
      "outputs": [],
      "source": [
        "dev = qml.device (\"default.qubit\", wires = nCubits)\n",
        "\n",
        "@qml.qnode(dev)\n",
        "def CircuitoCoseno(theta, nCubits = 3):\n",
        "  \"\"\"\n",
        "  Implementar un circuito cuántico con una puerta de ratación sobre el eje Y para todos los cúbits. El mismo ángulo se aplica a todos los cúbits.\n",
        "  Parámetros:\n",
        "    theta: Ángulo en radianes que se quiere aplicar en una rotación sobre el eje Y.\n",
        "    nCubits: Cantidad de cúbits del circuito\n",
        "\n",
        "  Retorno:\n",
        "    Array de probabilidades de cada uno de los estados.\n",
        "  \"\"\"\n",
        "  for i in range(nCubits):\n",
        "    qml.RY(theta, wires = i)\n",
        "  return qml.probs(wires=range(nCubits))\n",
        "\n",
        "def CircuitoSeno(theta, nCubits=3):\n",
        "  \"\"\"\n",
        "  Implementar un circuito cuántico con una puerta de rotación de pi/2 - theta sobre el eje Y para todos los cúbits. El mismo ángulo se aplica a todos los cúbits.\n",
        "  Parámetros:\n",
        "    theta: Ángulo en radianes que se quiere aplicar como una rotación pi/2 - theta sobre el eje Y.\n",
        "    nCubits: Cantidad de cúbits del circuito\n",
        "\n",
        "  Retorno:\n",
        "    Array de probabilidades de cada uno de los estados.\n",
        "  \"\"\"\n",
        "  return CircuitoCoseno((math.pi/2) - theta, nCubits)\n",
        "\n",
        "def ExpPhi(phi, m):\n",
        "  \"\"\"\n",
        "  Obtener el valor en coordenadas cartesianas de un número complejo en forma polar de la manera e^{im} a través de dos circuitos cuánticos de un único cúbit utilizando la igualdad e^{im} = cos(im) + i·sen(im) .\n",
        "\n",
        "  Parámetros:\n",
        "    phi: el ángulo base\n",
        "    m: valor a multiplicar al ángulo.\n",
        "\n",
        "  Retorno:\n",
        "    Una tupla con el valor real e imagino del número complejo en coordenadas cartesianas.\n",
        "  \"\"\"\n",
        "  C = CircuitoCoseno(phi * m, 1)\n",
        "  S = CircuitoSeno(phi * m, 1)\n",
        "  return (C[0] - C[1], S[0] - S[1])\n",
        "\n",
        "def ProductosPotencias(theta, nCubits):\n",
        "  \"\"\"\n",
        "  Obtener una matriz con la evaluación de los términos cos^k(theta)·sen^l(theta) con l+k = n.\n",
        "  \n",
        "  Parámetros:\n",
        "    theta: el ángulo a aplicar a las funciones trigonométricas.\n",
        "    nCubits: cantida de cúbits a utilizar, esto es el n = k+l.\n",
        "\n",
        "  Retorno:\n",
        "    Matriz con los terminos cos^k(theta)·sen^l(theta) con l+k = n.\n",
        "  \"\"\"\n",
        "  C = CircuitoCoseno(theta, nCubits)\n",
        "  S = CircuitoSeno(theta, nCubits)\n",
        "  cos, sen = sp.symbols(\"cos sen\")\n",
        "\n",
        "def ExtraerTerminosBinomio(probsArray, nCubits = 3):\n",
        "  \"\"\"\n",
        "  Extrae el valor los terminos de la expansión de la potencia de binomios (cos{theta}+bsen{theta})^n a partir de la matriz de probalidades obtenida de un circuito cuántico que aplica la misma rotación a toodos los cúbits.\n",
        "\n",
        "  Parámetros:\n",
        "    probArray: el array de probabilidades.\n",
        "    nCubits: cantidad de cúbits del circuito del que se ha obtenido e array\n",
        "  \n",
        "  Retorno:\n",
        "    Array de tuplas en las que el primer término es un simbolo de sympy con la expresión del témino binomial y el segundo es el valor.\n",
        "  \"\"\"\n",
        "  cos, sen = sp.symbols(\"cos sen\")\n",
        "  res = []\n",
        "  for i in range(nCubits +1):\n",
        "    potenciaCoseno = cos**((nCubits - i)* 2) #como es un valor de problabilidad se multiplica por 2 cada potencia\n",
        "    potenciaSeno = sen**(i * 2)\n",
        "    res.append((potenciaCoseno * potenciaSeno, probsArray[2**(i) -1]))\n",
        "  print(res)\n",
        "  return res\n",
        "\n",
        "def PotenciasTrig(terminosBinomio, nCubits = 3, funcion= sp.symbols(\"cos\")):\n",
        "  \"\"\"\n",
        "  Obener el valor del coseno a la 'n' potencia para el ángulo 'theta'. El resultado es una lista con todas las potencias del coseno de 0 a nCubits\n",
        "  \"\"\"\n",
        "  cos, sen = sp.symbols(\"cos sen\")\n",
        "  c = cos**2\n",
        "  s = sen**2\n",
        "  arr = []\n",
        "  for i in range(nCubits):  #Expansión de los distintos terminos (c+s)^k(c-s)^l con k+l = nCubits.\n",
        "    potenciaSuma = (c + s)**(nCubits-i - 1)\n",
        "    potenciaResta = (c - s)**(i + 1)\n",
        "    productoPotencias = potenciaSuma * potenciaResta\n",
        "    arr.append(productoPotencias.expand())\n",
        "  res = []\n",
        "  for potencia, i in zip(arr, range(nCubits)): #Sustitución de los valores obtenidos del cicuito cuántico en la expansión calculada\n",
        "    for termino in terminosBinomio:\n",
        "      potencia = potencia.subs(termino[0], termino[1])\n",
        "    res.append((funcion**(i+1), potencia))\n",
        "  return res\n",
        "\n",
        "def EvalLegendre(theta, ncubits = 4):\n",
        "  C = CircuitoCoseno(theta, nCubits)\n",
        "  S = CircuitoSeno(theta, nCubits)\n",
        "  PolinomiosLegendre = {'P_0_0': 1}\n",
        "  PolinomiosLegendre['P_1_0']= C[0] + 2*C[1] -2*C[7] -C[15]\n",
        "  PolinomiosLegendre['P_1_1']= -S[0] - 2*S[1] + 2*S[7] + S[15]\n",
        "  PolinomiosLegendre['P_2_0']= (3*(C[0] - 2*C[3] + C[15]) - 1)/2\n",
        "  PolinomiosLegendre['P_2_1']= 3*(C[0] + 2*C[1] - 2*C[7] - C[15])*(-S[0] -2*S[1] + 2*S[7] + S[15])\n",
        "  PolinomiosLegendre['P_2_2']= 3*(S[0] - 2*S[3] + S[15])\n",
        "  PolinomiosLegendre['P_3_0']= C[0] - 8*C[1] + 8*C[7] - C[15]\n",
        "  PolinomiosLegendre['P_3_1']= -(3/2)*(-S[0] + 18*S[1] -18*S[7] + S[15])\n",
        "  PolinomiosLegendre['P_3_2']= 15*(4*C[1] - 4*C[7])\n",
        "  PolinomiosLegendre['P_3_3']= -15*(S[0] -2*S[1] + 2*S[7] - S[15])\n",
        "  PolinomiosLegendre['P_4_0']= (1/8)*(5*C[0] - 140*C[1] + 270*C[3] -140*C[7] + 5*C[15] + 3)\n",
        "  PolinomiosLegendre['P_4_1']= -(5/2)*(7*(C[0] +2*C[1] -2*C[7] - C[15])*(4*S[1]-4*S[7]) + 3*(C[0]+2*C[1]-2*C[7]-C[15])*(-S[0]-2*S[1]+2*S[7]+S[15]))\n",
        "  PolinomiosLegendre['P_4_2'] = (15/2)*(56*C[1] - 112*C[3] + 56*C[7] - S[0] - 28*S[1] + 58*S[3] - 28*S[7] - S[15])\n",
        "  PolinomiosLegendre['P_4_3'] = -105*(C[0] + 2*C[1] - 2*C[7] - C[15])*(S[0] - 2*S[1] + 2*S[7] - S[15])\n",
        "  PolinomiosLegendre['P_4_4'] = 105*(S[0] - 4*S[1] + 6*S[3] - 4*S[7] + S[15])\n",
        "  return PolinomiosLegendre\n",
        "\n",
        "def EvalEsfericos(theta, phi, l = 4):\n",
        "  legendre = EvalLegendre(theta)\n",
        "  AE = {}\n",
        "  for k in range(l+1):\n",
        "    for m in range(-k, k+1):\n",
        "      condonShortley = ((-1)**abs(m))\n",
        "      coef = condonShortley * math.sqrt(((2*k + 1)*math.factorial(k - abs(m))) / (4*math.pi * math.factorial(k+abs(m)))) #Coeficiente de normalización\n",
        "      e = ExpPhi(phi, (m))\n",
        "      legendre_normalizado = (coef * legendre['P_' + str(k) + '_' + str(abs(m))])\n",
        "      AE['Y_' + str(k) + '_' + str(m)] = ( legendre_normalizado * e[0], legendre_normalizado * e[1])\n",
        "  \n",
        "  return AE"
      ]
    },
    {
      "cell_type": "code",
      "execution_count": 5,
      "metadata": {
        "colab": {
          "base_uri": "https://localhost:8080/"
        },
        "id": "CMxV1f1wuEFw",
        "outputId": "2e4b3bc4-eab0-409f-85c4-2c5891f598ae"
      },
      "outputs": [
        {
          "name": "stdout",
          "output_type": "stream",
          "text": [
            "cos**8 + 2*cos**6*sen**2 - 2*cos**2*sen**6 - sen**8\n",
            "cos**8 - 2*cos**4*sen**4 + sen**8\n",
            "cos**8 - 2*cos**6*sen**2 + 2*cos**2*sen**6 - sen**8\n",
            "cos**8 - 4*cos**6*sen**2 + 6*cos**4*sen**4 - 4*cos**2*sen**6 + sen**8\n",
            "cos**8 - 2*cos**2*sen**6 - sen**8 + 2\n",
            "cos**8 - 2*cos**4*sen**4 + sen**8\n",
            "cos**8 + 2*cos**2*sen**6 - sen**8 - 2\n",
            "cos**8 + 6*cos**4*sen**4 - 4*cos**2*sen**6 + sen**8 - 4\n"
          ]
        }
      ],
      "source": [
        "#c = cos^2(theta/2)\n",
        "#s = sen^2(theta/2)\n",
        "cos, sen = sp.symbols(\"cos sen\")\n",
        "#c, s = sp.symbols(\"c s\")\n",
        "c = cos**2\n",
        "s = sen**2\n",
        "arr = []\n",
        "nCubits = 4\n",
        "for i in range(nCubits):\n",
        "  potenciaSuma = (c + s)**(nCubits-i - 1)\n",
        "  potenciaResta = (c - s)**(i + 1)\n",
        "  productoPotencias = potenciaSuma * potenciaResta\n",
        "  a = productoPotencias.expand()\n",
        "  print(a)\n",
        "  arr.append(a)\n",
        "for x in arr:\n",
        "  print(x.subs(cos**6*sen**2, 1))"
      ]
    },
    {
      "cell_type": "code",
      "execution_count": 6,
      "metadata": {},
      "outputs": [
        {
          "data": {
            "text/plain": [
              "0.3454941494713355"
            ]
          },
          "execution_count": 6,
          "metadata": {},
          "output_type": "execute_result"
        }
      ],
      "source": [
        "((-1)**1)*math.sqrt((((2*1 + 1)*math.factorial(1 - abs(1))) / (4*math.pi * math.factorial(1+abs(1)))))\n",
        "math.sqrt(3/(8*math.pi))"
      ]
    },
    {
      "cell_type": "code",
      "execution_count": 152,
      "metadata": {},
      "outputs": [
        {
          "name": "stdout",
          "output_type": "stream",
          "text": [
            "0.28209479177387814 0.0\n",
            "0.18296548340389993 -0.0881115329251683\n",
            "0.3952877356237497 0.0\n",
            "0.18296548340389993 0.08811153292516832\n",
            "0.08320749142747604 -0.10433889404646438\n",
            "0.3309876688616823 -0.15939526046205713\n",
            "0.3038878129445756 0.0\n",
            "0.3309876688616823 0.15939526046205718\n",
            "0.08320749142747604 0.10433889404646438\n",
            "0.018853675536764813 -0.0826033497217849\n",
            "0.17810212184279137 -0.22333299684443067\n",
            "0.38894232429676284 -0.18730475156132773\n",
            "0.08228221038686168 0.0\n",
            "0.38894232429676284 0.18730475156132778\n",
            "0.17810212184279137 0.22333299684443067\n",
            "0.018853675536764813 0.0826033497217849\n",
            "-0.011754143143792865 -0.051498265942538306\n",
            "0.045758831747021826 -0.2004825411516632\n",
            "0.25808646471523716 -0.3236301904404923\n",
            "0.3205626929630728 -0.15437485666760664\n",
            "-0.1736900156399915 -0.0\n",
            "0.3205626929630728 0.15437485666760667\n",
            "0.25808646471523716 0.3236301904404923\n",
            "0.045758831747021826 0.2004825411516632\n",
            "-0.011754143143792865 0.0514982659425383\n"
          ]
        }
      ],
      "source": [
        "AE = EvalEsfericos(theta, phi)\n",
        "for armonicos in AE.values():\n",
        "    print(armonicos[0], armonicos[1])"
      ]
    },
    {
      "cell_type": "code",
      "execution_count": 117,
      "metadata": {},
      "outputs": [
        {
          "data": {
            "text/plain": [
              "array([ 0.28209479+0.j        ,  0.18296548-0.08811153j,\n",
              "        0.39528774+0.j        , -0.18296548-0.08811153j,\n",
              "        0.08320749-0.10433889j, -0.33098767-0.15939526j,\n",
              "        0.30388781+0.j        , -0.33098767-0.15939526j,\n",
              "        0.08320749+0.10433889j,  0.01885368-0.08260335j,\n",
              "        0.17810212-0.223333j  ,  0.38894232-0.18730475j,\n",
              "        0.08228221+0.j        , -0.38894232-0.18730475j,\n",
              "        0.17810212+0.223333j  , -0.01885368-0.08260335j,\n",
              "       -0.01175414-0.05149827j,  0.04575883-0.20048254j,\n",
              "        0.25808646-0.32363019j,  0.32056269-0.15437486j,\n",
              "       -0.17369002+0.j        , -0.32056269-0.15437486j,\n",
              "        0.25808646+0.32363019j, -0.04575883-0.20048254j,\n",
              "       -0.01175414+0.05149827j])"
            ]
          },
          "execution_count": 117,
          "metadata": {},
          "output_type": "execute_result"
        }
      ],
      "source": [
        "m = [0,-1,0,1,-2, 1,0,1,2,-3,-2,-1,0,1,2,3,-4,-3,-2,-1,0,1,2,3,4]\n",
        "v = [0, 1,1,1, 2, 2,2,2,2, 3, 3, 3,3,3,3,3, 4, 4, 4, 4,4,4,4,4,4]\n",
        "x = []\n",
        "for i in range(15):\n",
        "    x.append(math.cos(theta))\n",
        "\n",
        "sph = sph_harm(m, v, phi, theta)\n",
        "sph"
      ]
    },
    {
      "cell_type": "code",
      "execution_count": 18,
      "metadata": {},
      "outputs": [
        {
          "name": "stdout",
          "output_type": "stream",
          "text": [
            "0.28209479177387814\n",
            "-0.3454941494713355\n",
            "0.4886025119029199\n",
            "-0.3454941494713355\n",
            "0.12875806734106318\n",
            "-0.25751613468212636\n",
            "0.6307831305050401\n",
            "-0.25751613468212636\n",
            "0.12875806734106318\n",
            "-0.027814921575518937\n",
            "0.06813236509555216\n",
            "-0.21545345607610045\n",
            "0.7463526651802308\n",
            "-0.21545345607610045\n",
            "0.06813236509555216\n",
            "-0.027814921575518937\n",
            "0.004214597070904597\n",
            "-0.011920680675222404\n",
            "0.044603102903819275\n",
            "-0.18923493915151202\n",
            "0.8462843753216345\n",
            "-0.18923493915151202\n",
            "0.044603102903819275\n",
            "-0.011920680675222404\n",
            "0.004214597070904597\n"
          ]
        }
      ],
      "source": [
        "for k in range(4+1):\n",
        "    for m in range(-k, k+1):\n",
        "        c = ((-1)**m)*math.sqrt((((2*k + 1)*math.factorial(k - abs(m))) / (4*math.pi * math.factorial(k+abs(m)))))\n",
        "        print(c)"
      ]
    },
    {
      "cell_type": "code",
      "execution_count": 10,
      "metadata": {},
      "outputs": [
        {
          "data": {
            "text/plain": [
              "140"
            ]
          },
          "execution_count": 10,
          "metadata": {},
          "output_type": "execute_result"
        }
      ],
      "source": [
        "4*35"
      ]
    },
    {
      "attachments": {},
      "cell_type": "markdown",
      "metadata": {},
      "source": []
    },
    {
      "cell_type": "code",
      "execution_count": 11,
      "metadata": {},
      "outputs": [
        {
          "name": "stdout",
          "output_type": "stream",
          "text": [
            "3\n"
          ]
        }
      ],
      "source": [
        "#math.sin(theta)**1\n",
        "#math.cos(theta/2)**8 + 2*math.cos(theta/2)**6*math.sin(theta/2)**2 - 2*math.cos(theta/2)**2*math.sin(theta/2)**6  - math.sin(theta/2)**8\n",
        "#A = [[a, -b],[b, 1]]\n",
        "print(abs(-3))"
      ]
    },
    {
      "cell_type": "code",
      "execution_count": 12,
      "metadata": {},
      "outputs": [
        {
          "ename": "NameError",
          "evalue": "name 'C' is not defined",
          "output_type": "error",
          "traceback": [
            "\u001b[1;31m---------------------------------------------------------------------------\u001b[0m",
            "\u001b[1;31mNameError\u001b[0m                                 Traceback (most recent call last)",
            "Cell \u001b[1;32mIn[12], line 18\u001b[0m\n\u001b[0;32m     15\u001b[0m S7 \u001b[39m=\u001b[39m cos2\u001b[39m*\u001b[39m\u001b[39m*\u001b[39m\u001b[39m2\u001b[39m\u001b[39m*\u001b[39msen2\u001b[39m*\u001b[39m\u001b[39m*\u001b[39m\u001b[39m6\u001b[39m\n\u001b[0;32m     16\u001b[0m S15 \u001b[39m=\u001b[39m sen2\u001b[39m*\u001b[39m\u001b[39m*\u001b[39m\u001b[39m8\u001b[39m\n\u001b[1;32m---> 18\u001b[0m X \u001b[39m=\u001b[39m (\u001b[39m1\u001b[39m\u001b[39m/\u001b[39m\u001b[39m8\u001b[39m)\u001b[39m*\u001b[39m(\u001b[39m5\u001b[39m\u001b[39m*\u001b[39mC[\u001b[39m0\u001b[39m] \u001b[39m-\u001b[39m \u001b[39m140\u001b[39m\u001b[39m*\u001b[39mC[\u001b[39m1\u001b[39m] \u001b[39m+\u001b[39m \u001b[39m270\u001b[39m\u001b[39m*\u001b[39mC[\u001b[39m3\u001b[39m] \u001b[39m-\u001b[39m\u001b[39m140\u001b[39m\u001b[39m*\u001b[39mC[\u001b[39m7\u001b[39m] \u001b[39m+\u001b[39m \u001b[39m5\u001b[39m\u001b[39m*\u001b[39mC[\u001b[39m7\u001b[39m] \u001b[39m+\u001b[39m \u001b[39m3\u001b[39m)\n\u001b[0;32m     19\u001b[0m X \u001b[39m=\u001b[39m (\u001b[39m35\u001b[39m\u001b[39m*\u001b[39m(C[\u001b[39m0\u001b[39m] \u001b[39m-\u001b[39m \u001b[39m4\u001b[39m\u001b[39m*\u001b[39mC[\u001b[39m1\u001b[39m] \u001b[39m+\u001b[39m \u001b[39m6\u001b[39m\u001b[39m*\u001b[39mC[\u001b[39m3\u001b[39m] \u001b[39m-\u001b[39m \u001b[39m4\u001b[39m\u001b[39m*\u001b[39mC[\u001b[39m7\u001b[39m] \u001b[39m+\u001b[39m C[\u001b[39m15\u001b[39m]) \u001b[39m-\u001b[39m \u001b[39m30\u001b[39m\u001b[39m*\u001b[39m(C[\u001b[39m0\u001b[39m] \u001b[39m-\u001b[39m\u001b[39m2\u001b[39m\u001b[39m*\u001b[39mC[\u001b[39m3\u001b[39m]  \u001b[39m+\u001b[39m C[\u001b[39m15\u001b[39m]) \u001b[39m+\u001b[39m \u001b[39m3\u001b[39m)\u001b[39m/\u001b[39m\u001b[39m8\u001b[39m\n\u001b[0;32m     20\u001b[0m X \u001b[39m=\u001b[39m (C[\u001b[39m0\u001b[39m]\u001b[39m+\u001b[39m\u001b[39m2\u001b[39m\u001b[39m*\u001b[39mC[\u001b[39m1\u001b[39m]\u001b[39m-\u001b[39m\u001b[39m2\u001b[39m\u001b[39m*\u001b[39mC[\u001b[39m7\u001b[39m]\u001b[39m-\u001b[39mC[\u001b[39m15\u001b[39m])\u001b[39m*\u001b[39m(\u001b[39m-\u001b[39mS[\u001b[39m0\u001b[39m]\u001b[39m-\u001b[39m\u001b[39m2\u001b[39m\u001b[39m*\u001b[39mS[\u001b[39m1\u001b[39m]\u001b[39m+\u001b[39m\u001b[39m2\u001b[39m\u001b[39m*\u001b[39mS[\u001b[39m7\u001b[39m]\u001b[39m+\u001b[39mS[\u001b[39m15\u001b[39m])\n",
            "\u001b[1;31mNameError\u001b[0m: name 'C' is not defined"
          ]
        }
      ],
      "source": [
        "cos = sp.symbols(\"cos\")\n",
        "sen = sp.symbols(\"sin\")\n",
        "cos2 = sp.symbols(\"cos2\")\n",
        "sen2 = sp.symbols(\"sin2\")\n",
        "\n",
        "C0 = cos**8\n",
        "C1 = cos**6*sen**2\n",
        "C3 = cos**4*sen**4\n",
        "C7 = cos**2*sen**6\n",
        "C15 = sen**8\n",
        "\n",
        "S0 = cos2**8\n",
        "S1 = cos2**6*sen2**2\n",
        "S3 = cos2**4*sen2**4\n",
        "S7 = cos2**2*sen2**6\n",
        "S15 = sen2**8\n",
        "\n",
        "X = (1/8)*(5*C[0] - 140*C[1] + 270*C[3] -140*C[7] + 5*C[7] + 3)\n",
        "X = (35*(C[0] - 4*C[1] + 6*C[3] - 4*C[7] + C[15]) - 30*(C[0] -2*C[3]  + C[15]) + 3)/8\n",
        "X = (C[0]+2*C[1]-2*C[7]-C[15])*(-S[0]-2*S[1]+2*S[7]+S[15])\n",
        "\n",
        "X\n"
      ]
    },
    {
      "cell_type": "code",
      "execution_count": 70,
      "metadata": {},
      "outputs": [
        {
          "data": {
            "text/plain": [
              "{'P_0_0': 1,\n",
              " 'P_1_0': tensor(0.80901699, requires_grad=True),\n",
              " 'P_1_1': tensor(-0.58778525, requires_grad=True),\n",
              " 'P_2_0': tensor(0.48176275, requires_grad=True),\n",
              " 'P_2_1': tensor(-1.42658477, requires_grad=True),\n",
              " 'P_2_2': tensor(1.03647451, requires_grad=True),\n",
              " 'P_3_0': tensor(0.11024575, requires_grad=True),\n",
              " 'P_3_1': tensor(-2.00365044, requires_grad=True),\n",
              " 'P_3_2': tensor(4.19262746, requires_grad=True),\n",
              " 'P_3_3': tensor(-3.04612215, requires_grad=True),\n",
              " 'P_4_0': tensor(-0.20523836, requires_grad=True),\n",
              " 'P_4_1': tensor(-1.88019056, requires_grad=True),\n",
              " 'P_4_2': tensor(9.28048775, requires_grad=True),\n",
              " 'P_4_3': tensor(-17.25055212, requires_grad=True),\n",
              " 'P_4_4': tensor(12.53325974, requires_grad=True)}"
            ]
          },
          "execution_count": 70,
          "metadata": {},
          "output_type": "execute_result"
        }
      ],
      "source": [
        " legendre = EvalLegendre(theta)\n",
        "legendre"
      ]
    },
    {
      "cell_type": "code",
      "execution_count": 75,
      "metadata": {},
      "outputs": [
        {
          "data": {
            "text/plain": [
              "array([  1.        ,   0.80901699,  -0.58778525,   0.48176275,\n",
              "        -1.42658477,   1.03647451,   0.11024575,  -2.00365044,\n",
              "         4.19262746,  -3.04612215,  -0.20523836,  -1.88019056,\n",
              "         9.28048775, -17.25055212,  12.53325974])"
            ]
          },
          "execution_count": 75,
          "metadata": {},
          "output_type": "execute_result"
        }
      ],
      "source": [
        "m = [0,0,1,0,1,2,0,1,2,3,0,1,2,3,4]\n",
        "v = [0,1,1,2,2,2,3,3,3,3,4,4,4,4,4]\n",
        "lp = lpmv(m, v, math.cos(theta))\n",
        "lp"
      ]
    },
    {
      "cell_type": "code",
      "execution_count": 89,
      "metadata": {},
      "outputs": [
        {
          "data": {
            "text/latex": [
              "$\\displaystyle \\frac{\\left(-1\\right)^{\\left|{m}\\right|} \\sqrt{\\frac{\\left(2 k + 1\\right) \\left(k - \\left|{m}\\right|\\right)!}{\\left(k + \\left|{m}\\right|\\right)!}}}{2 \\sqrt{\\pi}}$"
            ],
            "text/plain": [
              "(-1)**Abs(m)*sqrt((2*k + 1)*factorial(k - Abs(m))/factorial(k + Abs(m)))/(2*sqrt(pi))"
            ]
          },
          "execution_count": 89,
          "metadata": {},
          "output_type": "execute_result"
        }
      ],
      "source": [
        "m, k= sp.symbols('m, k')\n",
        "#x = ((-1)**sp.Abs(m))*math.sqrt(((2*k + 1)*sp.factorial(k - sp.Abs(m))) / (4*sp.pi * sp.factorial(k+sp.Abs(m))))\n",
        "x = ((-1)**sp.Abs(m))*sp.sqrt(((2*k + 1) * sp.factorial(k - sp.Abs(m))) / (4*sp.pi * sp.factorial(k + sp.Abs(m))))\n",
        "x"
      ]
    }
  ],
  "metadata": {
    "colab": {
      "provenance": []
    },
    "kernelspec": {
      "display_name": "Python 3",
      "name": "python3"
    },
    "language_info": {
      "codemirror_mode": {
        "name": "ipython",
        "version": 3
      },
      "file_extension": ".py",
      "mimetype": "text/x-python",
      "name": "python",
      "nbconvert_exporter": "python",
      "pygments_lexer": "ipython3",
      "version": "3.10.7"
    }
  },
  "nbformat": 4,
  "nbformat_minor": 0
}
