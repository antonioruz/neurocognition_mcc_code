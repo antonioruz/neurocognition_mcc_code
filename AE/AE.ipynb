{
  "cells": [
    {
      "attachments": {},
      "cell_type": "markdown",
      "metadata": {
        "id": "p8HOfNQAnHRF"
      },
      "source": [
        "# Cálculo de armónicos esféricos utilizando computación cuántica.   \n",
        "## TFE: Computación cuántica aplciada al análisis espacial en electroencefalografía   \n",
        "## Master universitario en computación cuántica (UNIR)   \n",
        "### Francisco Vidal Requejo   \n",
        "### Antonio José Ruz Hervás   \n"
      ]
    },
    {
      "cell_type": "code",
      "execution_count": 9,
      "metadata": {
        "id": "FS9XCb4rtROI"
      },
      "outputs": [
        {
          "name": "stdout",
          "output_type": "stream",
          "text": [
            "Note: you may need to restart the kernel to use updated packages.\n"
          ]
        },
        {
          "name": "stderr",
          "output_type": "stream",
          "text": [
            "WARNING: Ignoring invalid distribution -ip (c:\\python310\\lib\\site-packages)\n",
            "WARNING: Ignoring invalid distribution -ip (c:\\python310\\lib\\site-packages)\n",
            "WARNING: Ignoring invalid distribution -ip (c:\\python310\\lib\\site-packages)\n",
            "WARNING: Ignoring invalid distribution -ip (c:\\python310\\lib\\site-packages)\n",
            "WARNING: Ignoring invalid distribution -ip (c:\\python310\\lib\\site-packages)\n",
            "WARNING: Ignoring invalid distribution -ip (c:\\python310\\lib\\site-packages)\n"
          ]
        }
      ],
      "source": [
        "%pip install pennylane > o"
      ]
    },
    {
      "attachments": {},
      "cell_type": "markdown",
      "metadata": {},
      "source": [
        "Importación de librerías utilizadas en este archivo."
      ]
    },
    {
      "cell_type": "code",
      "execution_count": 10,
      "metadata": {
        "id": "xFhT0Ylnm-Yo"
      },
      "outputs": [],
      "source": [
        "import pennylane as qml\n",
        "from pennylane import numpy as np\n",
        "import math\n",
        "import sympy as sp\n",
        "from scipy.special import lpmv\n",
        "from scipy.special import sph_harm\n"
      ]
    },
    {
      "attachments": {},
      "cell_type": "markdown",
      "metadata": {},
      "source": [
        "A continuación, se indican el número de cubits del circuito a utilizar, la coordenada del ángulo polar (theta) y la coordenada del ángulo azimutal (phi).\n",
        "\n",
        "Las expresiones para la obtención de armónicos esféricos se han obtenido para 4 cubits, por lo que es el circuito sobre le que se trabajará."
      ]
    },
    {
      "cell_type": "code",
      "execution_count": 11,
      "metadata": {
        "id": "MK56XFtdof-D"
      },
      "outputs": [],
      "source": [
        "nCubits = 4\n",
        "theta = math.pi/5\n",
        "phi = math.pi/7"
      ]
    },
    {
      "attachments": {},
      "cell_type": "markdown",
      "metadata": {},
      "source": [
        "Ángulos utilizados para el cálculo de los armónicos esféricos. La primera coordenada corresponde con la coordenada azimutal y la segunda con la polar."
      ]
    },
    {
      "cell_type": "code",
      "execution_count": 12,
      "metadata": {},
      "outputs": [],
      "source": [
        "angles = [['Fc5.',-71,-21],\n",
        " ['Fc3.',-50,-28],\n",
        " ['Fc1.',-32,-45],\n",
        " ['Fcz.',23,90],\n",
        " ['Fc2.',32,45],\n",
        " ['Fc4.',50,28],\n",
        " ['Fc6.',71,21],\n",
        " ['C5..',-69,0],\n",
        " ['C3..',-46,0],\n",
        " ['C1..',23,0],\n",
        " ['Cz..',0,0],\n",
        " ['C2..',23,0],\n",
        " ['C4..',46,0],\n",
        " ['C6..',69,0],\n",
        " ['Cp5.',-71,21],\n",
        " ['Cp3.',-50,28],\n",
        " ['Cp1.',-32,45],\n",
        " ['Cpz.',23,-90],\n",
        " ['Cp2.',32,-45],\n",
        " ['Cp4.',50,-28],\n",
        " ['Cp6.',71,-21],\n",
        " ['Fp1.',-92,-72],\n",
        " ['Fpz.',92,90],\n",
        " ['Fp2.',92,72],\n",
        " ['Af7.',-92,-52],\n",
        " ['Af3.',-74,-67],\n",
        " ['Afz.',69,90],\n",
        " ['Af4.',74,67],\n",
        " ['Af8.',92,52],\n",
        " ['F7..',-92,-36],\n",
        " ['F5..',-75,-41],\n",
        " ['F3..',-60,-51],\n",
        " ['F1..',-50,-68],\n",
        " ['Fz..',46,90],\n",
        " ['F2..',50,68],\n",
        " ['F4..',60,51],\n",
        " ['F6..',75,41],\n",
        " ['F8..',92,36],\n",
        " ['Ft7.',-92,-18],\n",
        " ['Ft8.',92,18],\n",
        " ['T7..',-92,0],\n",
        " ['T8..',92,0],\n",
        " ['T9..',-115,0],\n",
        " ['T10.',115,0],\n",
        " ['Tp7.',-92,18],\n",
        " ['Tp8.',92,-18],\n",
        " ['P7..',-92,36],\n",
        " ['P5..',-75,41],\n",
        " ['P3..',-60,51],\n",
        " ['P1..',-50,68],\n",
        " ['Pz..',46,-90],\n",
        " ['P2..',50,-68],\n",
        " ['P4..',60,-51],\n",
        " ['P6..',75,-41],\n",
        " ['P8..',92,-36],\n",
        " ['Po7.',-92,54],\n",
        " ['Po3.',-74,67],\n",
        " ['Poz.',69,-90],\n",
        " ['Po4.',74,-67],\n",
        " ['Po8.',92,-54],\n",
        " ['O1..',-92,72],\n",
        " ['Oz..',92,-90],\n",
        " ['O2..',92,-72],\n",
        " ['Iz..',115,-90]\n",
        " ]\n",
        "\n",
        "#Versión de los ángulos en radianes.\n",
        "anglesRad = []\n",
        "piFactor = math.pi/180\n",
        "for x in angles:\n",
        "    anglesRad.append([x[0], x[1] * piFactor, x[2] * piFactor])"
      ]
    },
    {
      "cell_type": "code",
      "execution_count": 28,
      "metadata": {
        "id": "VdDJ-dkOorDS"
      },
      "outputs": [],
      "source": [
        "dev = qml.device (\"default.qubit\", wires = nCubits)\n",
        "\n",
        "@qml.qnode(dev)\n",
        "def CircuitoCoseno(theta, nCubits = 3):\n",
        "  \"\"\"\n",
        "  Implementar un circuito cuántico con una puerta de ratación sobre el eje Y para todos los cúbits. El mismo ángulo se aplica a todos los cúbits.\n",
        "  Parámetros:\n",
        "    theta: Ángulo en radianes que se quiere aplicar en una rotación sobre el eje Y.\n",
        "    nCubits: Cantidad de cúbits del circuito\n",
        "\n",
        "  Retorno:\n",
        "    Array de probabilidades de cada uno de los estados.\n",
        "  \"\"\"\n",
        "  for i in range(nCubits):\n",
        "    qml.RY(theta, wires = i)\n",
        "  return qml.probs(wires=range(nCubits))\n",
        "\n",
        "def CircuitoSeno(theta, nCubits=3):\n",
        "  \"\"\"\n",
        "  Implementar un circuito cuántico con una puerta de rotación de pi/2 - theta sobre el eje Y para todos los cúbits. El mismo ángulo se aplica a todos los cúbits.\n",
        "  Parámetros:\n",
        "    theta: Ángulo en radianes que se quiere aplicar como una rotación pi/2 - theta sobre el eje Y.\n",
        "    nCubits: Cantidad de cúbits del circuito\n",
        "\n",
        "  Retorno:\n",
        "    Array de probabilidades de cada uno de los estados.\n",
        "  \"\"\"\n",
        "  return CircuitoCoseno((math.pi/2) - theta, nCubits)\n",
        "\n",
        "def ExpPhi(phi, m):\n",
        "  \"\"\"\n",
        "  Obtener el valor en coordenadas cartesianas de un número complejo en forma polar de la manera e^{im} a través de dos circuitos cuánticos de un único cúbit utilizando la igualdad e^{im} = cos(im) + i·sen(im) .\n",
        "\n",
        "  Parámetros:\n",
        "    phi: el ángulo base\n",
        "    m: valor a multiplicar al ángulo.\n",
        "\n",
        "  Retorno:\n",
        "    Una tupla con el valor real e imagino del número complejo en coordenadas cartesianas.\n",
        "  \"\"\"\n",
        "  C = CircuitoCoseno(phi * m, 1)\n",
        "  S = CircuitoSeno(phi * m, 1)\n",
        "  return (C[0] - C[1], S[0] - S[1])\n",
        "\n",
        "\n",
        "def EvalLegendre4(theta):\n",
        "  nCubits = 4\n",
        "  C = CircuitoCoseno(theta, nCubits)\n",
        "  S = CircuitoSeno(theta, nCubits)\n",
        "  PolinomiosLegendre = {'P_0_0': 1}\n",
        "  PolinomiosLegendre['P_1_0']= C[0] + 2*C[1] -2*C[7] -C[15]\n",
        "  PolinomiosLegendre['P_1_1']= -S[0] - 2*S[1] + 2*S[7] + S[15]\n",
        "  PolinomiosLegendre['P_2_0']= (3*(C[0] - 2*C[3] + C[15]) - 1)/2\n",
        "  PolinomiosLegendre['P_2_1']= 3*(C[0] + 2*C[1] - 2*C[7] - C[15])*(-S[0] -2*S[1] + 2*S[7] + S[15])\n",
        "  PolinomiosLegendre['P_2_2']= 3*(S[0] - 2*S[3] + S[15])\n",
        "  PolinomiosLegendre['P_3_0']= C[0] - 8*C[1] + 8*C[7] - C[15]\n",
        "  PolinomiosLegendre['P_3_1']= -(3/2)*(-S[0] + 18*S[1] -18*S[7] + S[15])\n",
        "  PolinomiosLegendre['P_3_2']= 15*(4*C[1] - 4*C[7])\n",
        "  PolinomiosLegendre['P_3_3']= -15*(S[0] -2*S[1] + 2*S[7] - S[15])\n",
        "  PolinomiosLegendre['P_4_0']= (1/8)*(5*C[0] - 140*C[1] + 270*C[3] -140*C[7] + 5*C[15] + 3)\n",
        "  PolinomiosLegendre['P_4_1']= -(5/2)*(7*(C[0] +2*C[1] -2*C[7] - C[15])*(4*S[1]-4*S[7]) + 3*(C[0]+2*C[1]-2*C[7]-C[15])*(-S[0]-2*S[1]+2*S[7]+S[15]))\n",
        "  PolinomiosLegendre['P_4_2'] = (15/2)*(56*C[1] - 112*C[3] + 56*C[7] - S[0] - 28*S[1] + 58*S[3] - 28*S[7] - S[15])\n",
        "  PolinomiosLegendre['P_4_3'] = -105*(C[0] + 2*C[1] - 2*C[7] - C[15])*(S[0] - 2*S[1] + 2*S[7] - S[15])\n",
        "  PolinomiosLegendre['P_4_4'] = 105*(S[0] - 4*S[1] + 6*S[3] - 4*S[7] + S[15])\n",
        "\n",
        "  #Polinomios de \"m\" negativo\n",
        "  for l in range(1, ncubits + 1):\n",
        "    for m in range(1, l+1):\n",
        "      PolinomiosLegendre['P_' + str(l) + '_-' + str(m)] = ((-1)**(m) * (math.factorial(l-m)/math.factorial(l+m))) * PolinomiosLegendre['P_' + str(l) + '_' + str(m)]\n",
        "  return PolinomiosLegendre\n",
        "\n",
        "def EvalEsfericos4(theta, phi):\n",
        "  l = 4\n",
        "  legendre = EvalLegendre4(theta)\n",
        "  AE = {}\n",
        "  for k in range(l+1):\n",
        "    for m in range(-k, k+1):\n",
        "      coef =  math.sqrt(((2*k + 1)*math.factorial(k - (m))) / (4*math.pi * math.factorial(k+(m)))) #Coeficiente de normalización\n",
        "      e = ExpPhi(phi, (m))\n",
        "      legendre_normalizado = (coef *  legendre['P_' + str(k) + '_' + str(m)])\n",
        "      AE['Y_' + str(k) + '_' + str(m)] = ( legendre_normalizado * e[0], legendre_normalizado * e[1])\n",
        "  \n",
        "  return AE"
      ]
    },
    {
      "cell_type": "code",
      "execution_count": 15,
      "metadata": {},
      "outputs": [
        {
          "data": {
            "text/plain": [
              "0.3454941494713355"
            ]
          },
          "execution_count": 15,
          "metadata": {},
          "output_type": "execute_result"
        }
      ],
      "source": [
        "((-1)**1)*math.sqrt((((2*1 + 1)*math.factorial(1 - abs(1))) / (4*math.pi * math.factorial(1+abs(1)))))\n",
        "math.sqrt(3/(8*math.pi))"
      ]
    },
    {
      "cell_type": "code",
      "execution_count": 29,
      "metadata": {},
      "outputs": [
        {
          "ename": "NameError",
          "evalue": "name 'ncubits' is not defined",
          "output_type": "error",
          "traceback": [
            "\u001b[1;31m---------------------------------------------------------------------------\u001b[0m",
            "\u001b[1;31mNameError\u001b[0m                                 Traceback (most recent call last)",
            "Cell \u001b[1;32mIn[29], line 1\u001b[0m\n\u001b[1;32m----> 1\u001b[0m AE \u001b[39m=\u001b[39m EvalEsfericos4(theta, phi)\n\u001b[0;32m      2\u001b[0m \u001b[39mfor\u001b[39;00m armonicos \u001b[39min\u001b[39;00m AE\u001b[39m.\u001b[39mvalues():\n\u001b[0;32m      3\u001b[0m     \u001b[39mprint\u001b[39m(armonicos[\u001b[39m0\u001b[39m], armonicos[\u001b[39m1\u001b[39m])\n",
            "Cell \u001b[1;32mIn[28], line 74\u001b[0m, in \u001b[0;36mEvalEsfericos4\u001b[1;34m(theta, phi)\u001b[0m\n\u001b[0;32m     72\u001b[0m \u001b[39mdef\u001b[39;00m \u001b[39mEvalEsfericos4\u001b[39m(theta, phi):\n\u001b[0;32m     73\u001b[0m   l \u001b[39m=\u001b[39m \u001b[39m4\u001b[39m\n\u001b[1;32m---> 74\u001b[0m   legendre \u001b[39m=\u001b[39m EvalLegendre4(theta)\n\u001b[0;32m     75\u001b[0m   AE \u001b[39m=\u001b[39m {}\n\u001b[0;32m     76\u001b[0m   \u001b[39mfor\u001b[39;00m k \u001b[39min\u001b[39;00m \u001b[39mrange\u001b[39m(l\u001b[39m+\u001b[39m\u001b[39m1\u001b[39m):\n",
            "Cell \u001b[1;32mIn[28], line 67\u001b[0m, in \u001b[0;36mEvalLegendre4\u001b[1;34m(theta)\u001b[0m\n\u001b[0;32m     64\u001b[0m PolinomiosLegendre[\u001b[39m'\u001b[39m\u001b[39mP_4_4\u001b[39m\u001b[39m'\u001b[39m] \u001b[39m=\u001b[39m \u001b[39m105\u001b[39m\u001b[39m*\u001b[39m(S[\u001b[39m0\u001b[39m] \u001b[39m-\u001b[39m \u001b[39m4\u001b[39m\u001b[39m*\u001b[39mS[\u001b[39m1\u001b[39m] \u001b[39m+\u001b[39m \u001b[39m6\u001b[39m\u001b[39m*\u001b[39mS[\u001b[39m3\u001b[39m] \u001b[39m-\u001b[39m \u001b[39m4\u001b[39m\u001b[39m*\u001b[39mS[\u001b[39m7\u001b[39m] \u001b[39m+\u001b[39m S[\u001b[39m15\u001b[39m])\n\u001b[0;32m     66\u001b[0m \u001b[39m#Polinomios de \"m\" negativo\u001b[39;00m\n\u001b[1;32m---> 67\u001b[0m \u001b[39mfor\u001b[39;00m l \u001b[39min\u001b[39;00m \u001b[39mrange\u001b[39m(\u001b[39m1\u001b[39m, ncubits \u001b[39m+\u001b[39m \u001b[39m1\u001b[39m):\n\u001b[0;32m     68\u001b[0m   \u001b[39mfor\u001b[39;00m m \u001b[39min\u001b[39;00m \u001b[39mrange\u001b[39m(\u001b[39m1\u001b[39m, l\u001b[39m+\u001b[39m\u001b[39m1\u001b[39m):\n\u001b[0;32m     69\u001b[0m     PolinomiosLegendre[\u001b[39m'\u001b[39m\u001b[39mP_\u001b[39m\u001b[39m'\u001b[39m \u001b[39m+\u001b[39m \u001b[39mstr\u001b[39m(l) \u001b[39m+\u001b[39m \u001b[39m'\u001b[39m\u001b[39m_-\u001b[39m\u001b[39m'\u001b[39m \u001b[39m+\u001b[39m \u001b[39mstr\u001b[39m(m)] \u001b[39m=\u001b[39m ((\u001b[39m-\u001b[39m\u001b[39m1\u001b[39m)\u001b[39m*\u001b[39m\u001b[39m*\u001b[39m(m) \u001b[39m*\u001b[39m (math\u001b[39m.\u001b[39mfactorial(l\u001b[39m-\u001b[39mm)\u001b[39m/\u001b[39mmath\u001b[39m.\u001b[39mfactorial(l\u001b[39m+\u001b[39mm))) \u001b[39m*\u001b[39m PolinomiosLegendre[\u001b[39m'\u001b[39m\u001b[39mP_\u001b[39m\u001b[39m'\u001b[39m \u001b[39m+\u001b[39m \u001b[39mstr\u001b[39m(l) \u001b[39m+\u001b[39m \u001b[39m'\u001b[39m\u001b[39m_\u001b[39m\u001b[39m'\u001b[39m \u001b[39m+\u001b[39m \u001b[39mstr\u001b[39m(m)]\n",
            "\u001b[1;31mNameError\u001b[0m: name 'ncubits' is not defined"
          ]
        }
      ],
      "source": [
        "AE = EvalEsfericos4(theta, phi)\n",
        "for armonicos in AE.values():\n",
        "    print(armonicos[0], armonicos[1])"
      ]
    },
    {
      "cell_type": "code",
      "execution_count": 17,
      "metadata": {},
      "outputs": [
        {
          "data": {
            "text/plain": [
              "array([ 0.28209479+0.j        ,  0.18296548-0.08811153j,\n",
              "        0.39528774+0.j        , -0.18296548-0.08811153j,\n",
              "        0.08320749-0.10433889j,  0.33098767-0.15939526j,\n",
              "        0.30388781+0.j        , -0.33098767-0.15939526j,\n",
              "        0.08320749+0.10433889j,  0.01885368-0.08260335j,\n",
              "        0.17810212-0.223333j  ,  0.38894232-0.18730475j,\n",
              "        0.08228221+0.j        , -0.38894232-0.18730475j,\n",
              "        0.17810212+0.223333j  , -0.01885368-0.08260335j,\n",
              "       -0.01175414-0.05149827j,  0.04575883-0.20048254j,\n",
              "        0.25808646-0.32363019j,  0.32056269-0.15437486j,\n",
              "       -0.17369002+0.j        , -0.32056269-0.15437486j,\n",
              "        0.25808646+0.32363019j, -0.04575883-0.20048254j,\n",
              "       -0.01175414+0.05149827j])"
            ]
          },
          "execution_count": 17,
          "metadata": {},
          "output_type": "execute_result"
        }
      ],
      "source": [
        "m = [0,-1,0,1,-2, -1,0,1,2,-3,-2,-1,0,1,2,3,-4,-3,-2,-1,0,1,2,3,4]\n",
        "v = [0, 1,1,1, 2, 2,2,2,2, 3, 3, 3,3,3,3,3, 4, 4, 4, 4,4,4,4,4,4]\n",
        "x = []\n",
        "for i in range(15):\n",
        "    x.append(math.cos(theta))\n",
        "\n",
        "sph = sph_harm(m, v, phi, theta)\n",
        "sph"
      ]
    },
    {
      "cell_type": "code",
      "execution_count": 18,
      "metadata": {},
      "outputs": [
        {
          "name": "stdout",
          "output_type": "stream",
          "text": [
            "0.28209479177387814\n",
            "-0.3454941494713355\n",
            "0.4886025119029199\n",
            "-0.3454941494713355\n",
            "0.12875806734106318\n",
            "-0.25751613468212636\n",
            "0.6307831305050401\n",
            "-0.25751613468212636\n",
            "0.12875806734106318\n",
            "-0.027814921575518937\n",
            "0.06813236509555216\n",
            "-0.21545345607610045\n",
            "0.7463526651802308\n",
            "-0.21545345607610045\n",
            "0.06813236509555216\n",
            "-0.027814921575518937\n",
            "0.004214597070904597\n",
            "-0.011920680675222404\n",
            "0.044603102903819275\n",
            "-0.18923493915151202\n",
            "0.8462843753216345\n",
            "-0.18923493915151202\n",
            "0.044603102903819275\n",
            "-0.011920680675222404\n",
            "0.004214597070904597\n"
          ]
        }
      ],
      "source": [
        "for k in range(4+1):\n",
        "    for m in range(-k, k+1):\n",
        "        c = ((-1)**m)*math.sqrt((((2*k + 1)*math.factorial(k - abs(m))) / (4*math.pi * math.factorial(k+abs(m)))))\n",
        "        print(c)"
      ]
    },
    {
      "cell_type": "code",
      "execution_count": 19,
      "metadata": {},
      "outputs": [
        {
          "data": {
            "text/plain": [
              "(tensor(0.90096887, requires_grad=True),\n",
              " tensor(-0.43388374, requires_grad=True))"
            ]
          },
          "execution_count": 19,
          "metadata": {},
          "output_type": "execute_result"
        }
      ],
      "source": [
        "ExpPhi(math.pi/7, -1)"
      ]
    },
    {
      "cell_type": "code",
      "execution_count": 20,
      "metadata": {},
      "outputs": [
        {
          "name": "stdout",
          "output_type": "stream",
          "text": [
            "3\n"
          ]
        }
      ],
      "source": [
        "#math.sin(theta)**1\n",
        "#math.cos(theta/2)**8 + 2*math.cos(theta/2)**6*math.sin(theta/2)**2 - 2*math.cos(theta/2)**2*math.sin(theta/2)**6  - math.sin(theta/2)**8\n",
        "#A = [[a, -b],[b, 1]]\n",
        "print(abs(-3))"
      ]
    },
    {
      "cell_type": "code",
      "execution_count": 21,
      "metadata": {},
      "outputs": [
        {
          "ename": "NameError",
          "evalue": "name 'C' is not defined",
          "output_type": "error",
          "traceback": [
            "\u001b[1;31m---------------------------------------------------------------------------\u001b[0m",
            "\u001b[1;31mNameError\u001b[0m                                 Traceback (most recent call last)",
            "Cell \u001b[1;32mIn[21], line 18\u001b[0m\n\u001b[0;32m     15\u001b[0m S7 \u001b[39m=\u001b[39m cos2\u001b[39m*\u001b[39m\u001b[39m*\u001b[39m\u001b[39m2\u001b[39m\u001b[39m*\u001b[39msen2\u001b[39m*\u001b[39m\u001b[39m*\u001b[39m\u001b[39m6\u001b[39m\n\u001b[0;32m     16\u001b[0m S15 \u001b[39m=\u001b[39m sen2\u001b[39m*\u001b[39m\u001b[39m*\u001b[39m\u001b[39m8\u001b[39m\n\u001b[1;32m---> 18\u001b[0m X \u001b[39m=\u001b[39m (\u001b[39m1\u001b[39m\u001b[39m/\u001b[39m\u001b[39m8\u001b[39m)\u001b[39m*\u001b[39m(\u001b[39m5\u001b[39m\u001b[39m*\u001b[39mC[\u001b[39m0\u001b[39m] \u001b[39m-\u001b[39m \u001b[39m140\u001b[39m\u001b[39m*\u001b[39mC[\u001b[39m1\u001b[39m] \u001b[39m+\u001b[39m \u001b[39m270\u001b[39m\u001b[39m*\u001b[39mC[\u001b[39m3\u001b[39m] \u001b[39m-\u001b[39m\u001b[39m140\u001b[39m\u001b[39m*\u001b[39mC[\u001b[39m7\u001b[39m] \u001b[39m+\u001b[39m \u001b[39m5\u001b[39m\u001b[39m*\u001b[39mC[\u001b[39m7\u001b[39m] \u001b[39m+\u001b[39m \u001b[39m3\u001b[39m)\n\u001b[0;32m     19\u001b[0m X \u001b[39m=\u001b[39m (\u001b[39m35\u001b[39m\u001b[39m*\u001b[39m(C[\u001b[39m0\u001b[39m] \u001b[39m-\u001b[39m \u001b[39m4\u001b[39m\u001b[39m*\u001b[39mC[\u001b[39m1\u001b[39m] \u001b[39m+\u001b[39m \u001b[39m6\u001b[39m\u001b[39m*\u001b[39mC[\u001b[39m3\u001b[39m] \u001b[39m-\u001b[39m \u001b[39m4\u001b[39m\u001b[39m*\u001b[39mC[\u001b[39m7\u001b[39m] \u001b[39m+\u001b[39m C[\u001b[39m15\u001b[39m]) \u001b[39m-\u001b[39m \u001b[39m30\u001b[39m\u001b[39m*\u001b[39m(C[\u001b[39m0\u001b[39m] \u001b[39m-\u001b[39m\u001b[39m2\u001b[39m\u001b[39m*\u001b[39mC[\u001b[39m3\u001b[39m]  \u001b[39m+\u001b[39m C[\u001b[39m15\u001b[39m]) \u001b[39m+\u001b[39m \u001b[39m3\u001b[39m)\u001b[39m/\u001b[39m\u001b[39m8\u001b[39m\n\u001b[0;32m     20\u001b[0m X \u001b[39m=\u001b[39m (C[\u001b[39m0\u001b[39m]\u001b[39m+\u001b[39m\u001b[39m2\u001b[39m\u001b[39m*\u001b[39mC[\u001b[39m1\u001b[39m]\u001b[39m-\u001b[39m\u001b[39m2\u001b[39m\u001b[39m*\u001b[39mC[\u001b[39m7\u001b[39m]\u001b[39m-\u001b[39mC[\u001b[39m15\u001b[39m])\u001b[39m*\u001b[39m(\u001b[39m-\u001b[39mS[\u001b[39m0\u001b[39m]\u001b[39m-\u001b[39m\u001b[39m2\u001b[39m\u001b[39m*\u001b[39mS[\u001b[39m1\u001b[39m]\u001b[39m+\u001b[39m\u001b[39m2\u001b[39m\u001b[39m*\u001b[39mS[\u001b[39m7\u001b[39m]\u001b[39m+\u001b[39mS[\u001b[39m15\u001b[39m])\n",
            "\u001b[1;31mNameError\u001b[0m: name 'C' is not defined"
          ]
        }
      ],
      "source": [
        "cos = sp.symbols(\"cos\")\n",
        "sen = sp.symbols(\"sin\")\n",
        "cos2 = sp.symbols(\"cos2\")\n",
        "sen2 = sp.symbols(\"sin2\")\n",
        "\n",
        "C0 = cos**8\n",
        "C1 = cos**6*sen**2\n",
        "C3 = cos**4*sen**4\n",
        "C7 = cos**2*sen**6\n",
        "C15 = sen**8\n",
        "\n",
        "S0 = cos2**8\n",
        "S1 = cos2**6*sen2**2\n",
        "S3 = cos2**4*sen2**4\n",
        "S7 = cos2**2*sen2**6\n",
        "S15 = sen2**8\n",
        "\n",
        "X = (1/8)*(5*C[0] - 140*C[1] + 270*C[3] -140*C[7] + 5*C[7] + 3)\n",
        "X = (35*(C[0] - 4*C[1] + 6*C[3] - 4*C[7] + C[15]) - 30*(C[0] -2*C[3]  + C[15]) + 3)/8\n",
        "X = (C[0]+2*C[1]-2*C[7]-C[15])*(-S[0]-2*S[1]+2*S[7]+S[15])\n",
        "\n",
        "X\n"
      ]
    },
    {
      "cell_type": "code",
      "execution_count": 22,
      "metadata": {},
      "outputs": [
        {
          "data": {
            "text/plain": [
              "{'P_0_0': 1,\n",
              " 'P_1_0': tensor(0.80901699, requires_grad=True),\n",
              " 'P_1_1': tensor(-0.58778525, requires_grad=True),\n",
              " 'P_2_0': tensor(0.48176275, requires_grad=True),\n",
              " 'P_2_1': tensor(-1.42658477, requires_grad=True),\n",
              " 'P_2_2': tensor(1.03647451, requires_grad=True),\n",
              " 'P_3_0': tensor(0.11024575, requires_grad=True),\n",
              " 'P_3_1': tensor(-2.00365044, requires_grad=True),\n",
              " 'P_3_2': tensor(4.19262746, requires_grad=True),\n",
              " 'P_3_3': tensor(-3.04612215, requires_grad=True),\n",
              " 'P_4_0': tensor(-0.20523836, requires_grad=True),\n",
              " 'P_4_1': tensor(-1.88019056, requires_grad=True),\n",
              " 'P_4_2': tensor(9.28048775, requires_grad=True),\n",
              " 'P_4_3': tensor(-17.25055212, requires_grad=True),\n",
              " 'P_4_4': tensor(12.53325974, requires_grad=True),\n",
              " 'P_1_-1': tensor(0.29389263, requires_grad=True),\n",
              " 'P_2_-1': tensor(0.23776413, requires_grad=True),\n",
              " 'P_2_-2': tensor(0.04318644, requires_grad=True),\n",
              " 'P_3_-1': tensor(0.16697087, requires_grad=True),\n",
              " 'P_3_-2': tensor(0.03493856, requires_grad=True),\n",
              " 'P_3_-3': tensor(0.00423073, requires_grad=True),\n",
              " 'P_4_-1': tensor(0.09400953, requires_grad=True),\n",
              " 'P_4_-2': tensor(0.02577913, requires_grad=True),\n",
              " 'P_4_-3': tensor(0.00342273, requires_grad=True),\n",
              " 'P_4_-4': tensor(0.00031084, requires_grad=True)}"
            ]
          },
          "execution_count": 22,
          "metadata": {},
          "output_type": "execute_result"
        }
      ],
      "source": [
        "legendre = EvalLegendre(theta)\n",
        "legendre"
      ]
    },
    {
      "cell_type": "code",
      "execution_count": 23,
      "metadata": {},
      "outputs": [
        {
          "data": {
            "text/plain": [
              "tensor(0.23776413, requires_grad=True)"
            ]
          },
          "execution_count": 23,
          "metadata": {},
          "output_type": "execute_result"
        }
      ],
      "source": [
        "k = 2\n",
        "m = 1\n",
        "legendreNegativo = ((-1)**(m) * (math.factorial(k-m)/math.factorial(k+m)))\n",
        "\n",
        "legendre['P_' + str(k) + '_' + str(m)]  * legendreNegativo"
      ]
    },
    {
      "cell_type": "code",
      "execution_count": 24,
      "metadata": {},
      "outputs": [
        {
          "data": {
            "text/plain": [
              "array([0.29389263, 0.23776413, 0.04318644, 0.16697087, 0.03493856,\n",
              "       0.00423073, 0.09400953, 0.02577913, 0.00342273, 0.00031084])"
            ]
          },
          "execution_count": 24,
          "metadata": {},
          "output_type": "execute_result"
        }
      ],
      "source": [
        "m = [-1,-1,-2,-1,-2,-3,-1,-2,-3,-4]\n",
        "v = [ 1, 2, 2, 3, 3, 3, 4, 4, 4, 4]\n",
        "lp = lpmv(m, v, math.cos(theta))\n",
        "lp"
      ]
    },
    {
      "cell_type": "code",
      "execution_count": 25,
      "metadata": {},
      "outputs": [
        {
          "data": {
            "text/latex": [
              "$\\displaystyle \\frac{\\left(-1\\right)^{\\left|{m}\\right|} \\sqrt{\\frac{\\left(2 k + 1\\right) \\left(k - \\left|{m}\\right|\\right)!}{\\left(k + \\left|{m}\\right|\\right)!}}}{2 \\sqrt{\\pi}}$"
            ],
            "text/plain": [
              "(-1)**Abs(m)*sqrt((2*k + 1)*factorial(k - Abs(m))/factorial(k + Abs(m)))/(2*sqrt(pi))"
            ]
          },
          "execution_count": 25,
          "metadata": {},
          "output_type": "execute_result"
        }
      ],
      "source": [
        "m, k= sp.symbols('m, k')\n",
        "#x = ((-1)**sp.Abs(m))*math.sqrt(((2*k + 1)*sp.factorial(k - sp.Abs(m))) / (4*sp.pi * sp.factorial(k+sp.Abs(m))))\n",
        "x = ((-1)**sp.Abs(m))*sp.sqrt(((2*k + 1) * sp.factorial(k - sp.Abs(m))) / (4*sp.pi * sp.factorial(k + sp.Abs(m))))\n",
        "x"
      ]
    }
  ],
  "metadata": {
    "colab": {
      "provenance": []
    },
    "kernelspec": {
      "display_name": "Python 3",
      "name": "python3"
    },
    "language_info": {
      "codemirror_mode": {
        "name": "ipython",
        "version": 3
      },
      "file_extension": ".py",
      "mimetype": "text/x-python",
      "name": "python",
      "nbconvert_exporter": "python",
      "pygments_lexer": "ipython3",
      "version": "3.10.7"
    }
  },
  "nbformat": 4,
  "nbformat_minor": 0
}
