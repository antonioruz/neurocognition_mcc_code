{
  "cells": [
    {
      "attachments": {},
      "cell_type": "markdown",
      "metadata": {
        "id": "p8HOfNQAnHRF"
      },
      "source": [
        "# Cálculo de armónicos esféricos utilizando computación cuántica.   \n",
        "## TFE: Computación cuántica aplciada al análisis espacial en electroencefalografía   \n",
        "## Master universitario en computación cuántica (UNIR)   \n",
        "### Francisco Vidal Requejo   \n",
        "### Antonio José Ruz Hervás   \n"
      ]
    },
    {
      "cell_type": "code",
      "execution_count": 6,
      "metadata": {
        "id": "FS9XCb4rtROI"
      },
      "outputs": [
        {
          "name": "stdout",
          "output_type": "stream",
          "text": [
            "Note: you may need to restart the kernel to use updated packages.\n"
          ]
        },
        {
          "name": "stderr",
          "output_type": "stream",
          "text": [
            "WARNING: Ignoring invalid distribution -ip (c:\\python310\\lib\\site-packages)\n",
            "WARNING: Ignoring invalid distribution -ip (c:\\python310\\lib\\site-packages)\n",
            "WARNING: Ignoring invalid distribution -ip (c:\\python310\\lib\\site-packages)\n",
            "WARNING: Ignoring invalid distribution -ip (c:\\python310\\lib\\site-packages)\n",
            "WARNING: Ignoring invalid distribution -ip (c:\\python310\\lib\\site-packages)\n",
            "WARNING: Ignoring invalid distribution -ip (c:\\python310\\lib\\site-packages)\n"
          ]
        }
      ],
      "source": [
        "%pip install pennylane > o"
      ]
    },
    {
      "cell_type": "code",
      "execution_count": 186,
      "metadata": {
        "id": "xFhT0Ylnm-Yo"
      },
      "outputs": [],
      "source": [
        "import pennylane as qml\n",
        "from pennylane import numpy as np\n",
        "import math\n",
        "import sympy as sp\n",
        "from scipy.special import lpmv\n",
        "from scipy.special import sph_harm\n"
      ]
    },
    {
      "cell_type": "code",
      "execution_count": 277,
      "metadata": {
        "id": "MK56XFtdof-D"
      },
      "outputs": [],
      "source": [
        "nCubits = 4\n",
        "theta = math.pi/5\n",
        "phi = math.pi/7"
      ]
    },
    {
      "cell_type": "code",
      "execution_count": 370,
      "metadata": {
        "id": "VdDJ-dkOorDS"
      },
      "outputs": [],
      "source": [
        "dev = qml.device (\"default.qubit\", wires = nCubits)\n",
        "\n",
        "@qml.qnode(dev)\n",
        "def CircuitoCoseno(theta, nCubits = 3):\n",
        "  \"\"\"\n",
        "  Implementar un circuito cuántico con una puerta de ratación sobre el eje Y para todos los cúbits. El mismo ángulo se aplica a todos los cúbits.\n",
        "  Parámetros:\n",
        "    theta: Ángulo en radianes que se quiere aplicar en una rotación sobre el eje Y.\n",
        "    nCubits: Cantidad de cúbits del circuito\n",
        "\n",
        "  Retorno:\n",
        "    Array de probabilidades de cada uno de los estados.\n",
        "  \"\"\"\n",
        "  for i in range(nCubits):\n",
        "    qml.RY(theta, wires = i)\n",
        "  return qml.probs(wires=range(nCubits))\n",
        "\n",
        "def CircuitoSeno(theta, nCubits=3):\n",
        "  \"\"\"\n",
        "  Implementar un circuito cuántico con una puerta de rotación de pi/2 - theta sobre el eje Y para todos los cúbits. El mismo ángulo se aplica a todos los cúbits.\n",
        "  Parámetros:\n",
        "    theta: Ángulo en radianes que se quiere aplicar como una rotación pi/2 - theta sobre el eje Y.\n",
        "    nCubits: Cantidad de cúbits del circuito\n",
        "\n",
        "  Retorno:\n",
        "    Array de probabilidades de cada uno de los estados.\n",
        "  \"\"\"\n",
        "  return CircuitoCoseno((math.pi/2) - theta, nCubits)\n",
        "\n",
        "def ExpPhi(phi, m):\n",
        "  \"\"\"\n",
        "  Obtener el valor en coordenadas cartesianas de un número complejo en forma polar de la manera e^{im} a través de dos circuitos cuánticos de un único cúbit utilizando la igualdad e^{im} = cos(im) + i·sen(im) .\n",
        "\n",
        "  Parámetros:\n",
        "    phi: el ángulo base\n",
        "    m: valor a multiplicar al ángulo.\n",
        "\n",
        "  Retorno:\n",
        "    Una tupla con el valor real e imagino del número complejo en coordenadas cartesianas.\n",
        "  \"\"\"\n",
        "  C = CircuitoCoseno(phi * m, 1)\n",
        "  S = CircuitoSeno(phi * m, 1)\n",
        "  return (C[0] - C[1], S[0] - S[1])\n",
        "\n",
        "def ProductosPotencias(theta, nCubits):\n",
        "  \"\"\"\n",
        "  Obtener una matriz con la evaluación de los términos cos^k(theta)·sen^l(theta) con l+k = n.\n",
        "  \n",
        "  Parámetros:\n",
        "    theta: el ángulo a aplicar a las funciones trigonométricas.\n",
        "    nCubits: cantida de cúbits a utilizar, esto es el n = k+l.\n",
        "\n",
        "  Retorno:\n",
        "    Matriz con los terminos cos^k(theta)·sen^l(theta) con l+k = n.\n",
        "  \"\"\"\n",
        "  C = CircuitoCoseno(theta, nCubits)\n",
        "  S = CircuitoSeno(theta, nCubits)\n",
        "  cos, sen = sp.symbols(\"cos sen\")\n",
        "\n",
        "def ExtraerTerminosBinomio(probsArray, nCubits = 3):\n",
        "  \"\"\"\n",
        "  Extrae el valor los terminos de la expansión de la potencia de binomios (cos{theta}+bsen{theta})^n a partir de la matriz de probalidades obtenida de un circuito cuántico que aplica la misma rotación a toodos los cúbits.\n",
        "\n",
        "  Parámetros:\n",
        "    probArray: el array de probabilidades.\n",
        "    nCubits: cantidad de cúbits del circuito del que se ha obtenido e array\n",
        "  \n",
        "  Retorno:\n",
        "    Array de tuplas en las que el primer término es un simbolo de sympy con la expresión del témino binomial y el segundo es el valor.\n",
        "  \"\"\"\n",
        "  cos, sen = sp.symbols(\"cos sen\")\n",
        "  res = []\n",
        "  for i in range(nCubits +1):\n",
        "    potenciaCoseno = cos**((nCubits - i)* 2) #como es un valor de problabilidad se multiplica por 2 cada potencia\n",
        "    potenciaSeno = sen**(i * 2)\n",
        "    res.append((potenciaCoseno * potenciaSeno, probsArray[2**(i) -1]))\n",
        "  print(res)\n",
        "  return res\n",
        "\n",
        "def PotenciasTrig(terminosBinomio, nCubits = 3, funcion= sp.symbols(\"cos\")):\n",
        "  \"\"\"\n",
        "  Obener el valor del coseno a la 'n' potencia para el ángulo 'theta'. El resultado es una lista con todas las potencias del coseno de 0 a nCubits\n",
        "  \"\"\"\n",
        "  cos, sen = sp.symbols(\"cos sen\")\n",
        "  c = cos**2\n",
        "  s = sen**2\n",
        "  arr = []\n",
        "  for i in range(nCubits):  #Expansión de los distintos terminos (c+s)^k(c-s)^l con k+l = nCubits.\n",
        "    potenciaSuma = (c + s)**(nCubits-i - 1)\n",
        "    potenciaResta = (c - s)**(i + 1)\n",
        "    productoPotencias = potenciaSuma * potenciaResta\n",
        "    arr.append(productoPotencias.expand())\n",
        "  res = []\n",
        "  for potencia, i in zip(arr, range(nCubits)): #Sustitución de los valores obtenidos del cicuito cuántico en la expansión calculada\n",
        "    for termino in terminosBinomio:\n",
        "      potencia = potencia.subs(termino[0], termino[1])\n",
        "    res.append((funcion**(i+1), potencia))\n",
        "  return res\n",
        "\n",
        "def EvalLegendre(theta, ncubits = 4):\n",
        "  C = CircuitoCoseno(theta, nCubits)\n",
        "  S = CircuitoSeno(theta, nCubits)\n",
        "  PolinomiosLegendre = {'P_0_0': 1}\n",
        "  PolinomiosLegendre['P_1_0']= C[0] + 2*C[1] -2*C[7] -C[15]\n",
        "  PolinomiosLegendre['P_1_1']= -S[0] - 2*S[1] + 2*S[7] + S[15]\n",
        "  PolinomiosLegendre['P_2_0']= (3*(C[0] - 2*C[3] + C[15]) - 1)/2\n",
        "  PolinomiosLegendre['P_2_1']= 3*(C[0] + 2*C[1] - 2*C[7] - C[15])*(-S[0] -2*S[1] + 2*S[7] + S[15])\n",
        "  PolinomiosLegendre['P_2_2']= 3*(S[0] - 2*S[3] + S[15])\n",
        "  PolinomiosLegendre['P_3_0']= C[0] - 8*C[1] + 8*C[7] - C[15]\n",
        "  PolinomiosLegendre['P_3_1']= -(3/2)*(-S[0] + 18*S[1] -18*S[7] + S[15])\n",
        "  PolinomiosLegendre['P_3_2']= 15*(4*C[1] - 4*C[7])\n",
        "  PolinomiosLegendre['P_3_3']= -15*(S[0] -2*S[1] + 2*S[7] - S[15])\n",
        "  PolinomiosLegendre['P_4_0']= (1/8)*(5*C[0] - 140*C[1] + 270*C[3] -140*C[7] + 5*C[15] + 3)\n",
        "  PolinomiosLegendre['P_4_1']= -(5/2)*(7*(C[0] +2*C[1] -2*C[7] - C[15])*(4*S[1]-4*S[7]) + 3*(C[0]+2*C[1]-2*C[7]-C[15])*(-S[0]-2*S[1]+2*S[7]+S[15]))\n",
        "  PolinomiosLegendre['P_4_2'] =  (15/2)*(56*C[1] - 112*C[3] + 56*C[7] - S[0] - 28*S[1] + 58*S[3] - 28*S[7] - S[15])\n",
        "  PolinomiosLegendre['P_4_3'] =  -105*(C[0] + 2*C[1] - 2*C[7] - C[15])*(S[0] - 2*S[1] + 2*S[7] - S[15])\n",
        "  PolinomiosLegendre['P_4_4'] =  105*(S[0] - 4*S[1] + 6*S[3] - 4*S[7] + S[15])\n",
        "  return PolinomiosLegendre\n",
        "\n",
        "def EvalEsfericos(theta, phi, l = 4):\n",
        "  legendre = EvalLegendre(theta)\n",
        "  AE = {}\n",
        "  for i in range(l+1):\n",
        "    for m in range(-i, i+1):\n",
        "      print(str(i) + '|' + str(m))\n",
        "      coef = ((-1)**m)*math.sqrt((((2*i + 1)*math.factorial(i - abs(m))) / (4*math.pi * math.factorial(i+abs(m))))) #Coeficiente de normalización\n",
        "      e = ExpPhi(phi, m)\n",
        "      legendre_normalizado = (coef * legendre['P_' + str(i) + '_' + str(abs(m))])\n",
        "      AE['Y_' + str(i) + '_' + str(m)] = ( legendre_normalizado * e[0], legendre_normalizado * e[1])\n",
        "  return AE"
      ]
    },
    {
      "cell_type": "code",
      "execution_count": 110,
      "metadata": {
        "colab": {
          "base_uri": "https://localhost:8080/"
        },
        "id": "CMxV1f1wuEFw",
        "outputId": "2e4b3bc4-eab0-409f-85c4-2c5891f598ae"
      },
      "outputs": [
        {
          "name": "stdout",
          "output_type": "stream",
          "text": [
            "cos**8 + 2*cos**6*sen**2 - 2*cos**2*sen**6 - sen**8\n",
            "cos**8 - 2*cos**4*sen**4 + sen**8\n",
            "cos**8 - 2*cos**6*sen**2 + 2*cos**2*sen**6 - sen**8\n",
            "cos**8 - 4*cos**6*sen**2 + 6*cos**4*sen**4 - 4*cos**2*sen**6 + sen**8\n",
            "cos**8 - 2*cos**2*sen**6 - sen**8 + 2\n",
            "cos**8 - 2*cos**4*sen**4 + sen**8\n",
            "cos**8 + 2*cos**2*sen**6 - sen**8 - 2\n",
            "cos**8 + 6*cos**4*sen**4 - 4*cos**2*sen**6 + sen**8 - 4\n"
          ]
        }
      ],
      "source": [
        "#c = cos^2(theta/2)\n",
        "#s = sen^2(theta/2)\n",
        "cos, sen = sp.symbols(\"cos sen\")\n",
        "#c, s = sp.symbols(\"c s\")\n",
        "c = cos**2\n",
        "s = sen**2\n",
        "arr = []\n",
        "nCubits = 4\n",
        "for i in range(nCubits):\n",
        "  potenciaSuma = (c + s)**(nCubits-i - 1)\n",
        "  potenciaResta = (c - s)**(i + 1)\n",
        "  productoPotencias = potenciaSuma * potenciaResta\n",
        "  a = productoPotencias.expand()\n",
        "  print(a)\n",
        "  arr.append(a)\n",
        "for x in arr:\n",
        "  print(x.subs(cos**6*sen**2, 1))"
      ]
    },
    {
      "cell_type": "code",
      "execution_count": 348,
      "metadata": {},
      "outputs": [
        {
          "data": {
            "text/plain": [
              "-0.22252093395631434"
            ]
          },
          "execution_count": 348,
          "metadata": {},
          "output_type": "execute_result"
        }
      ],
      "source": [
        "math.cos(phi*4)"
      ]
    },
    {
      "cell_type": "code",
      "execution_count": 371,
      "metadata": {},
      "outputs": [
        {
          "name": "stdout",
          "output_type": "stream",
          "text": [
            "0|0\n",
            "1|-1\n",
            "1|0\n",
            "1|1\n",
            "2|-2\n",
            "2|-1\n",
            "2|0\n",
            "2|1\n",
            "2|2\n",
            "3|-3\n",
            "3|-2\n",
            "3|-1\n",
            "3|0\n",
            "3|1\n",
            "3|2\n",
            "3|3\n",
            "4|-4\n",
            "4|-3\n",
            "4|-2\n",
            "4|-1\n",
            "4|0\n",
            "4|1\n",
            "4|2\n",
            "4|3\n",
            "4|4\n"
          ]
        },
        {
          "data": {
            "text/plain": [
              "{'Y_0_0': (tensor(1., requires_grad=True), tensor(0., requires_grad=True)),\n",
              " 'Y_1_-1': (tensor(-0.52957621, requires_grad=True),\n",
              "  tensor(0.25503046, requires_grad=True)),\n",
              " 'Y_1_0': (tensor(0.80901699, requires_grad=True),\n",
              "  tensor(0., requires_grad=True)),\n",
              " 'Y_1_1': (tensor(-0.52957621, requires_grad=True),\n",
              "  tensor(-0.25503046, requires_grad=True)),\n",
              " 'Y_2_-2': (tensor(0.64623129, requires_grad=True),\n",
              "  tensor(-0.8103484, requires_grad=True)),\n",
              " 'Y_2_-1': (tensor(-1.28530847, requires_grad=True),\n",
              "  tensor(0.61897194, requires_grad=True)),\n",
              " 'Y_2_0': (tensor(0.48176275, requires_grad=True),\n",
              "  tensor(0., requires_grad=True)),\n",
              " 'Y_2_1': (tensor(-1.28530847, requires_grad=True),\n",
              "  tensor(-0.61897194, requires_grad=True)),\n",
              " 'Y_2_2': (tensor(0.64623129, requires_grad=True),\n",
              "  tensor(0.8103484, requires_grad=True)),\n",
              " 'Y_3_-3': (tensor(-0.67782595, requires_grad=True),\n",
              "  tensor(2.96974951, requires_grad=True)),\n",
              " 'Y_3_-2': (tensor(2.61406046, requires_grad=True),\n",
              "  tensor(-3.27792814, requires_grad=True)),\n",
              " 'Y_3_-1': (tensor(-1.80522667, requires_grad=True),\n",
              "  tensor(0.86935134, requires_grad=True)),\n",
              " 'Y_3_0': (tensor(0.11024575, requires_grad=True),\n",
              "  tensor(0., requires_grad=True)),\n",
              " 'Y_3_1': (tensor(-1.80522667, requires_grad=True),\n",
              "  tensor(-0.86935134, requires_grad=True)),\n",
              " 'Y_3_2': (tensor(2.61406046, requires_grad=True),\n",
              "  tensor(3.27792814, requires_grad=True)),\n",
              " 'Y_3_3': (tensor(-0.67782595, requires_grad=True),\n",
              "  tensor(-2.96974951, requires_grad=True)),\n",
              " 'Y_4_-4': (tensor(-2.78891266, requires_grad=True),\n",
              "  tensor(-12.21902476, requires_grad=True)),\n",
              " 'Y_4_-3': (tensor(-3.83860897, requires_grad=True),\n",
              "  tensor(16.81804476, requires_grad=True)),\n",
              " 'Y_4_-2': (tensor(5.78628947, requires_grad=True),\n",
              "  tensor(-7.2557775, requires_grad=True)),\n",
              " 'Y_4_-1': (tensor(-1.69399316, requires_grad=True),\n",
              "  tensor(0.81578411, requires_grad=True)),\n",
              " 'Y_4_0': (tensor(-0.20523836, requires_grad=True),\n",
              "  tensor(-0., requires_grad=True)),\n",
              " 'Y_4_1': (tensor(-1.69399316, requires_grad=True),\n",
              "  tensor(-0.81578411, requires_grad=True)),\n",
              " 'Y_4_2': (tensor(5.78628947, requires_grad=True),\n",
              "  tensor(7.2557775, requires_grad=True)),\n",
              " 'Y_4_3': (tensor(-3.83860897, requires_grad=True),\n",
              "  tensor(-16.81804476, requires_grad=True)),\n",
              " 'Y_4_4': (tensor(-2.78891266, requires_grad=True),\n",
              "  tensor(12.21902476, requires_grad=True))}"
            ]
          },
          "execution_count": 371,
          "metadata": {},
          "output_type": "execute_result"
        }
      ],
      "source": [
        "AE = EvalEsfericos(theta, phi)\n",
        "AE"
      ]
    },
    {
      "cell_type": "code",
      "execution_count": 365,
      "metadata": {},
      "outputs": [
        {
          "data": {
            "text/plain": [
              "array([ 0.28209479+0.j        ,  0.12127512-0.08811153j,\n",
              "        0.44021565+0.j        , -0.12127512-0.08811153j,\n",
              "        0.02247113-0.06915901j, -0.24432421-0.17751193j,\n",
              "        0.45266092+0.j        , -0.24432421-0.17751193j,\n",
              "        0.02247113+0.06915901j, -0.01053105-0.03241123j,\n",
              "        0.05356531-0.16485707j,  0.34698932-0.2521025j ,\n",
              "        0.35596463+0.j        , -0.34698932-0.2521025j ,\n",
              "        0.05356531+0.16485707j,  0.01053105-0.03241123j,\n",
              "       -0.0126881 -0.00921844j, -0.02846444-0.08760453j,\n",
              "        0.09111854-0.28043402j,  0.40130596-0.29156585j,\n",
              "        0.18091396+0.j        , -0.40130596-0.29156585j,\n",
              "        0.09111854+0.28043402j,  0.02846444-0.08760453j,\n",
              "       -0.0126881 +0.00921844j])"
            ]
          },
          "execution_count": 365,
          "metadata": {},
          "output_type": "execute_result"
        }
      ],
      "source": [
        "#m = [0,0,1,0,1,2,0,1,2,3,0,1,2,3,4]\n",
        "#v = [0,1,1,2,2,2,3,3,3,3,4,4,4,4,4]\n",
        "m = [0,-1,0,1,-2, 1,0,1,2,-3,-2,-1,0,1,2,3,-4,-3,-2,-1,0,1,2,3,4]\n",
        "v = [0, 1,1,1, 2, 2,2,2,2, 3, 3, 3,3,3,3,3, 4, 4, 4, 4,4,4,4,4,4]\n",
        "x = []\n",
        "for i in range(15):\n",
        "    x.append(math.cos(theta))\n",
        "\n",
        "sph_harm(m, v, theta, phi)"
      ]
    },
    {
      "cell_type": "code",
      "execution_count": null,
      "metadata": {},
      "outputs": [],
      "source": [
        "(m, v, x)"
      ]
    },
    {
      "cell_type": "code",
      "execution_count": 216,
      "metadata": {},
      "outputs": [
        {
          "data": {
            "text/plain": [
              "140"
            ]
          },
          "execution_count": 216,
          "metadata": {},
          "output_type": "execute_result"
        }
      ],
      "source": [
        "4*35"
      ]
    },
    {
      "attachments": {},
      "cell_type": "markdown",
      "metadata": {},
      "source": []
    },
    {
      "cell_type": "code",
      "execution_count": 275,
      "metadata": {},
      "outputs": [
        {
          "name": "stdout",
          "output_type": "stream",
          "text": [
            "3\n"
          ]
        }
      ],
      "source": [
        "#math.sin(theta)**1\n",
        "#math.cos(theta/2)**8 + 2*math.cos(theta/2)**6*math.sin(theta/2)**2 - 2*math.cos(theta/2)**2*math.sin(theta/2)**6  - math.sin(theta/2)**8\n",
        "#A = [[a, -b],[b, 1]]\n",
        "print(abs(-3))"
      ]
    },
    {
      "cell_type": "code",
      "execution_count": 257,
      "metadata": {},
      "outputs": [
        {
          "data": {
            "text/plain": [
              "tensor(-0.47552826, requires_grad=True)"
            ]
          },
          "execution_count": 257,
          "metadata": {},
          "output_type": "execute_result"
        }
      ],
      "source": [
        "cos = sp.symbols(\"cos\")\n",
        "sen = sp.symbols(\"sin\")\n",
        "cos2 = sp.symbols(\"cos2\")\n",
        "sen2 = sp.symbols(\"sin2\")\n",
        "\n",
        "C0 = cos**8\n",
        "C1 = cos**6*sen**2\n",
        "C3 = cos**4*sen**4\n",
        "C7 = cos**2*sen**6\n",
        "C15 = sen**8\n",
        "\n",
        "S0 = cos2**8\n",
        "S1 = cos2**6*sen2**2\n",
        "S3 = cos2**4*sen2**4\n",
        "S7 = cos2**2*sen2**6\n",
        "S15 = sen2**8\n",
        "\n",
        "X = (1/8)*(5*C[0] - 140*C[1] + 270*C[3] -140*C[7] + 5*C[7] + 3)\n",
        "X = (35*(C[0] - 4*C[1] + 6*C[3] - 4*C[7] + C[15]) - 30*(C[0] -2*C[3]  + C[15]) + 3)/8\n",
        "X = (C[0]+2*C[1]-2*C[7]-C[15])*(-S[0]-2*S[1]+2*S[7]+S[15])\n",
        "\n",
        "X\n"
      ]
    }
  ],
  "metadata": {
    "colab": {
      "provenance": []
    },
    "kernelspec": {
      "display_name": "Python 3",
      "name": "python3"
    },
    "language_info": {
      "codemirror_mode": {
        "name": "ipython",
        "version": 3
      },
      "file_extension": ".py",
      "mimetype": "text/x-python",
      "name": "python",
      "nbconvert_exporter": "python",
      "pygments_lexer": "ipython3",
      "version": "3.10.7"
    }
  },
  "nbformat": 4,
  "nbformat_minor": 0
}
