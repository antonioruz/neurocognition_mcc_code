{
  "cells": [
    {
      "attachments": {},
      "cell_type": "markdown",
      "metadata": {
        "id": "p8HOfNQAnHRF"
      },
      "source": [
        "# Cálculo de armónicos esféricos utilizando computación cuántica.   \n",
        "## TFE: Computación cuántica aplciada al análisis espacial en electroencefalografía - Procesador cuántico Real   \n",
        "## Master universitario en computación cuántica (UNIR)   \n",
        "### Francisco Vidal Requejo   \n",
        "### Antonio José Ruz Hervás   \n",
        "\n",
        "En este notebook se desarrolla el modelo teórico propuesto en el trabajo para la evaluación de armónicos esféricos mediante la utilización de computación cuántica. Se utiliza aquí un procesador cuántico real para realizar el experimento. El resultado se guarda en un el archivo especificado en \"strNombreArchivo\" y se permite la reanudación del experimento donde se quedó.\n",
        "\n",
        "Primeramente, es necesario instalar la librería \"pennylane\", que será utilizada para los circuitos cuánticos."
      ]
    },
    {
      "cell_type": "code",
      "execution_count": 6,
      "metadata": {
        "id": "FS9XCb4rtROI"
      },
      "outputs": [
        {
          "name": "stdout",
          "output_type": "stream",
          "text": [
            "Note: you may need to restart the kernel to use updated packages.\n",
            "Note: you may need to restart the kernel to use updated packages.\n",
            "Collecting qiskit_aer\n",
            "  Obtaining dependency information for qiskit_aer from https://files.pythonhosted.org/packages/10/3a/09935130dbb72ec4154a067f5611c83ae25eb1af1ff9ffb5e445b33afb33/qiskit_aer-0.12.2-cp311-cp311-win_amd64.whl.metadata\n",
            "  Downloading qiskit_aer-0.12.2-cp311-cp311-win_amd64.whl.metadata (6.5 kB)\n",
            "Requirement already satisfied: qiskit-terra>=0.21.0 in c:\\python311\\lib\\site-packages (from qiskit_aer) (0.25.0)\n",
            "Requirement already satisfied: numpy>=1.16.3 in c:\\python311\\lib\\site-packages (from qiskit_aer) (1.23.5)\n",
            "Requirement already satisfied: scipy>=1.0 in c:\\python311\\lib\\site-packages (from qiskit_aer) (1.11.1)\n",
            "Requirement already satisfied: rustworkx>=0.13.0 in c:\\python311\\lib\\site-packages (from qiskit-terra>=0.21.0->qiskit_aer) (0.13.1)\n",
            "Requirement already satisfied: ply>=3.10 in c:\\python311\\lib\\site-packages (from qiskit-terra>=0.21.0->qiskit_aer) (3.11)\n",
            "Requirement already satisfied: psutil>=5 in c:\\users\\ineco.fvr\\appdata\\roaming\\python\\python311\\site-packages (from qiskit-terra>=0.21.0->qiskit_aer) (5.9.5)\n",
            "Requirement already satisfied: sympy>=1.3 in c:\\python311\\lib\\site-packages (from qiskit-terra>=0.21.0->qiskit_aer) (1.12)\n",
            "Requirement already satisfied: dill>=0.3 in c:\\python311\\lib\\site-packages (from qiskit-terra>=0.21.0->qiskit_aer) (0.3.7)\n",
            "Requirement already satisfied: python-dateutil>=2.8.0 in c:\\users\\ineco.fvr\\appdata\\roaming\\python\\python311\\site-packages (from qiskit-terra>=0.21.0->qiskit_aer) (2.8.2)\n",
            "Requirement already satisfied: stevedore>=3.0.0 in c:\\python311\\lib\\site-packages (from qiskit-terra>=0.21.0->qiskit_aer) (5.1.0)\n",
            "Requirement already satisfied: six>=1.5 in c:\\users\\ineco.fvr\\appdata\\roaming\\python\\python311\\site-packages (from python-dateutil>=2.8.0->qiskit-terra>=0.21.0->qiskit_aer) (1.16.0)\n",
            "Requirement already satisfied: pbr!=2.1.0,>=2.0.0 in c:\\python311\\lib\\site-packages (from stevedore>=3.0.0->qiskit-terra>=0.21.0->qiskit_aer) (5.11.1)\n",
            "Requirement already satisfied: mpmath>=0.19 in c:\\python311\\lib\\site-packages (from sympy>=1.3->qiskit-terra>=0.21.0->qiskit_aer) (1.3.0)\n",
            "Downloading qiskit_aer-0.12.2-cp311-cp311-win_amd64.whl (9.6 MB)\n",
            "   ---------------------------------------- 0.0/9.6 MB ? eta -:--:--\n",
            "   ----- ---------------------------------- 1.3/9.6 MB 28.3 MB/s eta 0:00:01\n",
            "   ----------------- ---------------------- 4.1/9.6 MB 44.3 MB/s eta 0:00:01\n",
            "   ----------------- ---------------------- 4.2/9.6 MB 44.9 MB/s eta 0:00:01\n",
            "   ----------------- ---------------------- 4.2/9.6 MB 44.9 MB/s eta 0:00:01\n",
            "   ----------------- ---------------------- 4.2/9.6 MB 44.9 MB/s eta 0:00:01\n",
            "   ----------------- ---------------------- 4.2/9.6 MB 44.9 MB/s eta 0:00:01\n",
            "   ----------------- ---------------------- 4.2/9.6 MB 44.9 MB/s eta 0:00:01\n",
            "   ----------------- ---------------------- 4.2/9.6 MB 44.9 MB/s eta 0:00:01\n",
            "   ----------------- ---------------------- 4.2/9.6 MB 44.9 MB/s eta 0:00:01\n",
            "   ----------------- ---------------------- 4.2/9.6 MB 44.9 MB/s eta 0:00:01\n",
            "   --------------------- ------------------ 5.2/9.6 MB 10.5 MB/s eta 0:00:01\n",
            "   --------------------- ------------------ 5.2/9.6 MB 10.5 MB/s eta 0:00:01\n",
            "   ----------------------- ---------------- 5.7/9.6 MB 9.6 MB/s eta 0:00:01\n",
            "   ---------------------------------- ----- 8.4/9.6 MB 13.1 MB/s eta 0:00:01\n",
            "   ---------------------------------- ----- 8.4/9.6 MB 13.1 MB/s eta 0:00:01\n",
            "   ---------------------------------- ----- 8.4/9.6 MB 13.1 MB/s eta 0:00:01\n",
            "   ---------------------------------- ----- 8.4/9.6 MB 13.1 MB/s eta 0:00:01\n",
            "   ---------------------------------- ----- 8.4/9.6 MB 13.1 MB/s eta 0:00:01\n",
            "   ---------------------------------- ----- 8.4/9.6 MB 13.1 MB/s eta 0:00:01\n",
            "   ---------------------------------- ----- 8.4/9.6 MB 13.1 MB/s eta 0:00:01\n",
            "   ---------------------------------- ----- 8.4/9.6 MB 13.1 MB/s eta 0:00:01\n",
            "   ---------------------------------------  9.6/9.6 MB 9.6 MB/s eta 0:00:01\n",
            "   ---------------------------------------  9.6/9.6 MB 9.6 MB/s eta 0:00:01\n",
            "   ---------------------------------------  9.6/9.6 MB 9.6 MB/s eta 0:00:01\n",
            "   ---------------------------------------- 9.6/9.6 MB 8.5 MB/s eta 0:00:00\n",
            "Installing collected packages: qiskit_aer\n",
            "Successfully installed qiskit_aer-0.12.2\n",
            "Note: you may need to restart the kernel to use updated packages.\n"
          ]
        }
      ],
      "source": [
        "%pip install pennylane > o\n",
        "%pip install pennylane-qiskit > o\n",
        "%pip install qiskit_aer >o"
      ]
    },
    {
      "cell_type": "code",
      "execution_count": 2,
      "metadata": {},
      "outputs": [],
      "source": [
        "strNombreArchivo=\"results.csv\"\n",
        "\n"
      ]
    },
    {
      "attachments": {},
      "cell_type": "markdown",
      "metadata": {},
      "source": [
        "Importación de librerías utilizadas en este archivo."
      ]
    },
    {
      "cell_type": "code",
      "execution_count": 3,
      "metadata": {
        "id": "xFhT0Ylnm-Yo"
      },
      "outputs": [],
      "source": [
        "import pennylane as qml\n",
        "from pennylane import numpy as np\n",
        "import math\n",
        "import sympy as sp\n",
        "from scipy.special import lpmv\n",
        "from scipy.special import sph_harm\n",
        "import csv"
      ]
    },
    {
      "attachments": {},
      "cell_type": "markdown",
      "metadata": {},
      "source": [
        "Ángulos utilizados para el cálculo de los armónicos esféricos. La primera coordenada corresponde con la coordenada azimutal y la segunda con la polar. Estos ángulos se corresponden con la posición de 64 electrodos de un EEG utilizando el \"sistema 10-10\" para elegir la posición de los mismos, considerando la cabeza como una esfera."
      ]
    },
    {
      "cell_type": "code",
      "execution_count": 4,
      "metadata": {},
      "outputs": [
        {
          "data": {
            "text/plain": [
              "[['C6..', 1.2042771838760873, 0.0]]"
            ]
          },
          "execution_count": 4,
          "metadata": {},
          "output_type": "execute_result"
        }
      ],
      "source": [
        "angles = [#['Fc5.',-71,-21]]#,\n",
        " #['Fc3.',-50,-28],\n",
        " #['Fc1.',-32,-45],\n",
        " #['Fcz.',23,90],\n",
        " #['Fc2.',32,45],\n",
        " #['Fc4.',50,28],\n",
        " #['Fc6.',71,21],\n",
        " #['C5..',-69,0],\n",
        " #['C3..',-46,0],\n",
        " #['C1..',23,0],\n",
        " #['Cz..',0,0],\n",
        " #['C2..',23,0],\n",
        " #['C4..',46,0],\n",
        " ['C6..',69,0]]#,\n",
        " #['Cp5.',-71,21],\n",
        " #['Cp3.',-50,28],\n",
        " #['Cp1.',-32,45],\n",
        " #['Cpz.',23,-90],\n",
        " #['Cp2.',32,-45],\n",
        " #['Cp4.',50,-28],\n",
        " #['Cp6.',71,-21],\n",
        " #['Fp1.',-92,-72],\n",
        " #['Fpz.',92,90],\n",
        " #['Fp2.',92,72],\n",
        " #['Af7.',-92,-52],\n",
        " #['Af3.',-74,-67],\n",
        " #['Afz.',69,90],\n",
        " #['Af4.',74,67],\n",
        " #['Af8.',92,52],\n",
        " #['F7..',-92,-36],\n",
        " #['F5..',-75,-41],\n",
        " #['F3..',-60,-51],\n",
        " #['F1..',-50,-68],\n",
        " #['Fz..',46,90],\n",
        " #['F2..',50,68]]#,\n",
        " #['F4..',60,51],\n",
        " #['F6..',75,41],\n",
        " #['F8..',92,36],\n",
        " #['Ft7.',-92,-18],\n",
        " #['Ft8.',92,18],\n",
        " #['T7..',-92,0],\n",
        " #['T8..',92,0],\n",
        " #['T9..',-115,0],\n",
        " #['T10.',115,0],\n",
        " #['Tp7.',-92,18],\n",
        " #['Tp8.',92,-18],\n",
        " #['P7..',-92,36],\n",
        " #['P5..',-75,41],\n",
        " #['P3..',-60,51],\n",
        " #['P1..',-50,68],\n",
        " #['Pz..',46,-90],\n",
        " #['P2..',50,-68],\n",
        " #['P4..',60,-51],\n",
        " #['P6..',75,-41],\n",
        " #['P8..',92,-36],\n",
        " #['Po7.',-92,54],\n",
        " #['Po3.',-74,67],\n",
        " #['Poz.',69,-90],\n",
        " #['Po4.',74,-67],\n",
        " #['Po8.',92,-54],\n",
        " #['O1..',-92,72],\n",
        " #['Oz..',92,-90],\n",
        " #['O2..',92,-72],\n",
        " #['Iz..',115,-90]\n",
        " #]\n",
        "\n",
        "#Versión de los ángulos en radianes.\n",
        "anglesRad = []\n",
        "piFactor = math.pi/180\n",
        "for x in angles:\n",
        "    anglesRad.append([x[0], x[1] * piFactor, x[2] * piFactor])\n",
        "anglesRad"
      ]
    },
    {
      "cell_type": "code",
      "execution_count": 5,
      "metadata": {
        "id": "VdDJ-dkOorDS"
      },
      "outputs": [
        {
          "ename": "ModuleNotFoundError",
          "evalue": "No module named 'qiskit_aer'",
          "output_type": "error",
          "traceback": [
            "\u001b[1;31m---------------------------------------------------------------------------\u001b[0m",
            "\u001b[1;31mModuleNotFoundError\u001b[0m                       Traceback (most recent call last)",
            "Cell \u001b[1;32mIn[5], line 9\u001b[0m\n\u001b[0;32m      7\u001b[0m strToken\u001b[39m=\u001b[39m\u001b[39m\"\u001b[39m\u001b[39m7a60a88cb869db32476e0939ad7d1cecfeeff8d58659acccd3d7836f0a2979e6992786fe258164ec12c3217ca0b233781f65cce5e8ee4e9046c24b7e3b028768\u001b[39m\u001b[39m\"\u001b[39m\n\u001b[0;32m      8\u001b[0m \u001b[39m#dev = qml.device (\"default.qubit\", wires = nCubits)\u001b[39;00m\n\u001b[1;32m----> 9\u001b[0m dev \u001b[39m=\u001b[39m qml\u001b[39m.\u001b[39;49mdevice (strDevice, backend\u001b[39m=\u001b[39;49mstrBackend, ibmqx_token\u001b[39m=\u001b[39;49mstrToken, wires \u001b[39m=\u001b[39;49m nCubits, shots \u001b[39m=\u001b[39;49m nShots)\n\u001b[0;32m     11\u001b[0m \u001b[39m@qml\u001b[39m\u001b[39m.\u001b[39mqnode(dev)\n\u001b[0;32m     12\u001b[0m \u001b[39mdef\u001b[39;00m \u001b[39mCircuitoCoseno\u001b[39m(theta, nCubits \u001b[39m=\u001b[39m \u001b[39m3\u001b[39m):\n\u001b[0;32m     13\u001b[0m \u001b[39m  \u001b[39m\u001b[39m\"\"\"\u001b[39;00m\n\u001b[0;32m     14\u001b[0m \u001b[39m  Implementar un circuito cuántico con una puerta de ratación sobre el eje Y para todos los cúbits. El mismo ángulo se aplica a todos los cúbits.\u001b[39;00m\n\u001b[0;32m     15\u001b[0m \u001b[39m  Parámetros:\u001b[39;00m\n\u001b[1;32m   (...)\u001b[0m\n\u001b[0;32m     20\u001b[0m \u001b[39m    Array de probabilidades de cada uno de los estados.\u001b[39;00m\n\u001b[0;32m     21\u001b[0m \u001b[39m  \"\"\"\u001b[39;00m\n",
            "File \u001b[1;32mc:\\Python311\\Lib\\site-packages\\pennylane\\__init__.py:329\u001b[0m, in \u001b[0;36mdevice\u001b[1;34m(name, *args, **kwargs)\u001b[0m\n\u001b[0;32m    326\u001b[0m options\u001b[39m.\u001b[39mupdate(kwargs)\n\u001b[0;32m    328\u001b[0m \u001b[39m# loads the device class\u001b[39;00m\n\u001b[1;32m--> 329\u001b[0m plugin_device_class \u001b[39m=\u001b[39m plugin_devices[name]\u001b[39m.\u001b[39;49mload()\n\u001b[0;32m    331\u001b[0m \u001b[39mif\u001b[39;00m Version(version()) \u001b[39mnot\u001b[39;00m \u001b[39min\u001b[39;00m SimpleSpec(plugin_device_class\u001b[39m.\u001b[39mpennylane_requires):\n\u001b[0;32m    332\u001b[0m     \u001b[39mraise\u001b[39;00m DeviceError(\n\u001b[0;32m    333\u001b[0m         \u001b[39mf\u001b[39m\u001b[39m\"\u001b[39m\u001b[39mThe \u001b[39m\u001b[39m{\u001b[39;00mname\u001b[39m}\u001b[39;00m\u001b[39m plugin requires PennyLane versions \u001b[39m\u001b[39m{\u001b[39;00mplugin_device_class\u001b[39m.\u001b[39mpennylane_requires\u001b[39m}\u001b[39;00m\u001b[39m, \u001b[39m\u001b[39m\"\u001b[39m\n\u001b[0;32m    334\u001b[0m         \u001b[39mf\u001b[39m\u001b[39m\"\u001b[39m\u001b[39mhowever PennyLane version \u001b[39m\u001b[39m{\u001b[39;00m__version__\u001b[39m}\u001b[39;00m\u001b[39m is installed.\u001b[39m\u001b[39m\"\u001b[39m\n\u001b[0;32m    335\u001b[0m     )\n",
            "File \u001b[1;32mc:\\Python311\\Lib\\site-packages\\pkg_resources\\__init__.py:2471\u001b[0m, in \u001b[0;36mEntryPoint.load\u001b[1;34m(self, require, *args, **kwargs)\u001b[0m\n\u001b[0;32m   2469\u001b[0m \u001b[39mif\u001b[39;00m require:\n\u001b[0;32m   2470\u001b[0m     \u001b[39mself\u001b[39m\u001b[39m.\u001b[39mrequire(\u001b[39m*\u001b[39margs, \u001b[39m*\u001b[39m\u001b[39m*\u001b[39mkwargs)\n\u001b[1;32m-> 2471\u001b[0m \u001b[39mreturn\u001b[39;00m \u001b[39mself\u001b[39;49m\u001b[39m.\u001b[39;49mresolve()\n",
            "File \u001b[1;32mc:\\Python311\\Lib\\site-packages\\pkg_resources\\__init__.py:2477\u001b[0m, in \u001b[0;36mEntryPoint.resolve\u001b[1;34m(self)\u001b[0m\n\u001b[0;32m   2473\u001b[0m \u001b[39mdef\u001b[39;00m \u001b[39mresolve\u001b[39m(\u001b[39mself\u001b[39m):\n\u001b[0;32m   2474\u001b[0m \u001b[39m    \u001b[39m\u001b[39m\"\"\"\u001b[39;00m\n\u001b[0;32m   2475\u001b[0m \u001b[39m    Resolve the entry point from its module and attrs.\u001b[39;00m\n\u001b[0;32m   2476\u001b[0m \u001b[39m    \"\"\"\u001b[39;00m\n\u001b[1;32m-> 2477\u001b[0m     module \u001b[39m=\u001b[39m \u001b[39m__import__\u001b[39;49m(\u001b[39mself\u001b[39;49m\u001b[39m.\u001b[39;49mmodule_name, fromlist\u001b[39m=\u001b[39;49m[\u001b[39m'\u001b[39;49m\u001b[39m__name__\u001b[39;49m\u001b[39m'\u001b[39;49m], level\u001b[39m=\u001b[39;49m\u001b[39m0\u001b[39;49m)\n\u001b[0;32m   2478\u001b[0m     \u001b[39mtry\u001b[39;00m:\n\u001b[0;32m   2479\u001b[0m         \u001b[39mreturn\u001b[39;00m functools\u001b[39m.\u001b[39mreduce(\u001b[39mgetattr\u001b[39m, \u001b[39mself\u001b[39m\u001b[39m.\u001b[39mattrs, module)\n",
            "File \u001b[1;32mc:\\Python311\\Lib\\site-packages\\pennylane_qiskit\\__init__.py:17\u001b[0m\n\u001b[0;32m     14\u001b[0m \u001b[39m\"\"\"Top level PennyLane-qiskit module\"\"\"\u001b[39;00m\n\u001b[0;32m     16\u001b[0m \u001b[39mfrom\u001b[39;00m \u001b[39m.\u001b[39;00m\u001b[39m_version\u001b[39;00m \u001b[39mimport\u001b[39;00m __version__\n\u001b[1;32m---> 17\u001b[0m \u001b[39mfrom\u001b[39;00m \u001b[39m.\u001b[39;00m\u001b[39maer\u001b[39;00m \u001b[39mimport\u001b[39;00m AerDevice\n\u001b[0;32m     18\u001b[0m \u001b[39mfrom\u001b[39;00m \u001b[39m.\u001b[39;00m\u001b[39mbasic_aer\u001b[39;00m \u001b[39mimport\u001b[39;00m BasicAerDevice\n\u001b[0;32m     19\u001b[0m \u001b[39mfrom\u001b[39;00m \u001b[39m.\u001b[39;00m\u001b[39mibmq\u001b[39;00m \u001b[39mimport\u001b[39;00m IBMQDevice\n",
            "File \u001b[1;32mc:\\Python311\\Lib\\site-packages\\pennylane_qiskit\\aer.py:19\u001b[0m\n\u001b[0;32m      1\u001b[0m \u001b[39m# Copyright 2019 Xanadu Quantum Technologies Inc.\u001b[39;00m\n\u001b[0;32m      2\u001b[0m \n\u001b[0;32m      3\u001b[0m \u001b[39m# Licensed under the Apache License, Version 2.0 (the \"License\");\u001b[39;00m\n\u001b[1;32m   (...)\u001b[0m\n\u001b[0;32m     12\u001b[0m \u001b[39m# See the License for the specific language governing permissions and\u001b[39;00m\n\u001b[0;32m     13\u001b[0m \u001b[39m# limitations under the License.\u001b[39;00m\n\u001b[0;32m     14\u001b[0m \u001b[39m\"\"\"\u001b[39;00m\n\u001b[0;32m     15\u001b[0m \u001b[39mThis module contains the :class:`~.AerDevice` class, a PennyLane device that allows\u001b[39;00m\n\u001b[0;32m     16\u001b[0m \u001b[39mevaluation and differentiation of Qiskit Aer's C++ simulator\u001b[39;00m\n\u001b[0;32m     17\u001b[0m \u001b[39musing PennyLane.\u001b[39;00m\n\u001b[0;32m     18\u001b[0m \u001b[39m\"\"\"\u001b[39;00m\n\u001b[1;32m---> 19\u001b[0m \u001b[39mimport\u001b[39;00m \u001b[39mqiskit_aer\u001b[39;00m\n\u001b[0;32m     21\u001b[0m \u001b[39mfrom\u001b[39;00m \u001b[39m.\u001b[39;00m\u001b[39mqiskit_device\u001b[39;00m \u001b[39mimport\u001b[39;00m QiskitDevice\n\u001b[0;32m     24\u001b[0m \u001b[39mclass\u001b[39;00m \u001b[39mAerDevice\u001b[39;00m(QiskitDevice):\n",
            "\u001b[1;31mModuleNotFoundError\u001b[0m: No module named 'qiskit_aer'"
          ]
        }
      ],
      "source": [
        "nCubits = 4\n",
        "nShots = 20000\n",
        "strDevice = \"qiskit.ibmq\"\n",
        "strBackend=\"ibmq_belem\"\n",
        "\n",
        "#---------- ----------------AQUÍ TU TOKEN DE IBM -----------------------------------\n",
        "strToken=\"7a60a88cb869db32476e0939ad7d1cecfeeff8d58659acccd3d7836f0a2979e6992786fe258164ec12c3217ca0b233781f65cce5e8ee4e9046c24b7e3b028768\"\n",
        "#dev = qml.device (\"default.qubit\", wires = nCubits)\n",
        "dev = qml.device (strDevice, backend=strBackend, ibmqx_token=strToken, wires = nCubits, shots = nShots)\n",
        "\n",
        "@qml.qnode(dev)\n",
        "def CircuitoCoseno(theta, nCubits = 3):\n",
        "  \"\"\"\n",
        "  Implementar un circuito cuántico con una puerta de ratación sobre el eje Y para todos los cúbits. El mismo ángulo se aplica a todos los cúbits.\n",
        "  Parámetros:\n",
        "    theta: Ángulo en radianes que se quiere aplicar en una rotación sobre el eje Y.\n",
        "    nCubits: Cantidad de cúbits del circuito\n",
        "\n",
        "  Retorno:\n",
        "    Array de probabilidades de cada uno de los estados.\n",
        "  \"\"\"\n",
        "  for i in range(nCubits):\n",
        "    qml.RY(theta, wires = i)\n",
        "  return qml.probs(wires=range(nCubits))\n",
        "\n",
        "def CircuitoSeno(theta, nCubits=3):\n",
        "  \"\"\"\n",
        "  Implementar un circuito cuántico con una puerta de rotación de pi/2 - theta sobre el eje Y para todos los cúbits. El mismo ángulo se aplica a todos los cúbits.\n",
        "  Parámetros:\n",
        "    theta: Ángulo en radianes que se quiere aplicar como una rotación pi/2 - theta sobre el eje Y.\n",
        "    nCubits: Cantidad de cúbits del circuito\n",
        "\n",
        "  Retorno:\n",
        "    Array de probabilidades de cada uno de los estados.\n",
        "  \"\"\"\n",
        "  return CircuitoCoseno((math.pi/2) - theta, nCubits)\n",
        "\n",
        "def ExpPhi(phi, m):\n",
        "  \"\"\"\n",
        "  Obtener el valor en coordenadas cartesianas de un número complejo en forma polar de la manera e^{im} a través de dos circuitos cuánticos de un único cúbit utilizando la igualdad e^{im} = cos(im) + i·sen(im) .\n",
        "\n",
        "  Parámetros:\n",
        "    phi: el ángulo base\n",
        "    m: valor a multiplicar al ángulo.\n",
        "\n",
        "  Retorno:\n",
        "    Una tupla con el valor real e imagino del número complejo en coordenadas cartesianas.\n",
        "  \"\"\"\n",
        "  C = CircuitoCoseno(phi * m, 1)\n",
        "  S = CircuitoSeno(phi * m, 1)\n",
        "  return (C[0] - C[1], S[0] - S[1])\n",
        "\n",
        "\n",
        "def EvalAsocLegendre4(theta):\n",
        "  \"\"\"\n",
        "  Evaluar los Polinomios asociados de legendre en un ángulo dado utilizando un circutio de 4 cúbits. Esto generará todos los polinomios asociados de Legendre hasta l = 4.\n",
        "\n",
        "  Parámetros: \n",
        "    theta: ángulo en radiantes sobre el cual calcular los polinomios asociados de Legendre.\n",
        "\n",
        "  Retorno:\n",
        "    Un diccionario en el que cada elemento tiene una etiqueta de la forma \"P_l_m\" indicando el polinomio asociado de Legendre al que hace referencia y cuyo valor es el resultado de la evaluación de dicho polinómio sobre el ángulo dado.\n",
        "  \"\"\"\n",
        "  nCubits = 4\n",
        "  C = CircuitoCoseno(abs(theta), nCubits) #importante que el ángulo sea siempre positivo.\n",
        "  S = CircuitoSeno(abs(theta), nCubits)\n",
        "  PolinomiosLegendre = {'P_0_0': 1}\n",
        "  PolinomiosLegendre['P_1_0']= C[0] + 2*C[1] -2*C[7] -C[15]\n",
        "  PolinomiosLegendre['P_1_1']= -S[0] - 2*S[1] + 2*S[7] + S[15]\n",
        "  PolinomiosLegendre['P_2_0']= (3*(C[0] - 2*C[3] + C[15]) - 1)/2\n",
        "  PolinomiosLegendre['P_2_1']= 3*(C[0] + 2*C[1] - 2*C[7] - C[15])*(-S[0] -2*S[1] + 2*S[7] + S[15])\n",
        "  PolinomiosLegendre['P_2_2']= 3*(S[0] - 2*S[3] + S[15])\n",
        "  PolinomiosLegendre['P_3_0']= C[0] - 8*C[1] + 8*C[7] - C[15]\n",
        "  PolinomiosLegendre['P_3_1']= -(3/2)*(-S[0] + 18*S[1] -18*S[7] + S[15])\n",
        "  PolinomiosLegendre['P_3_2']= 15*(4*C[1] - 4*C[7])\n",
        "  PolinomiosLegendre['P_3_3']= -15*(S[0] -2*S[1] + 2*S[7] - S[15])\n",
        "  PolinomiosLegendre['P_4_0']= (1/8)*(5*C[0] - 140*C[1] + 270*C[3] -140*C[7] + 5*C[15] + 3)\n",
        "  PolinomiosLegendre['P_4_1']= -(5/2)*(7*(C[0] +2*C[1] -2*C[7] - C[15])*(4*S[1]-4*S[7]) + 3*(C[0]+2*C[1]-2*C[7]-C[15])*(-S[0]-2*S[1]+2*S[7]+S[15]))\n",
        "  PolinomiosLegendre['P_4_2'] = (15/2)*(56*C[1] - 112*C[3] + 56*C[7] - S[0] - 28*S[1] + 58*S[3] - 28*S[7] - S[15])\n",
        "  PolinomiosLegendre['P_4_3'] = -105*(C[0] + 2*C[1] - 2*C[7] - C[15])*(S[0] - 2*S[1] + 2*S[7] - S[15])\n",
        "  PolinomiosLegendre['P_4_4'] = 105*(S[0] - 4*S[1] + 6*S[3] - 4*S[7] + S[15])\n",
        "\n",
        "  #Polinomios de \"m\" negativo\n",
        "  for l in range(1, nCubits + 1):\n",
        "    for m in range(1, l+1):\n",
        "      PolinomiosLegendre['P_' + str(l) + '_-' + str(m)] = ((-1)**(m) * (math.factorial(l-m)/math.factorial(l+m))) * PolinomiosLegendre['P_' + str(l) + '_' + str(m)]\n",
        "  return PolinomiosLegendre\n",
        "\n",
        "def EvalEsfericos4(theta, phi):\n",
        "  \"\"\"\n",
        "  Realiza la evaluación de armónicos esféricos mediante cirucitos cuánticos de 4 cubits. Se obtiene el resultado de evalluar los armónicos esféricos para los ángulos dados hasta l = 4.\n",
        "\n",
        "  Parámetros:\n",
        "    theta: ángulo én radianes de la coordenada polar.\n",
        "    phi: ángulo en radianes de la coordenada azimutal.\n",
        "\n",
        "  Retorno:\n",
        "    Un diccionario en el que cada elemento tiene una etiqueta de la forma \"Y_l_m\" indicando el armónico esférico al que hace referencia y cuyo valor es el resultado de la evaluación de dicho armónico esféricos sobre los ángulos dados.\n",
        "  \"\"\"\n",
        "  l = 4\n",
        "  legendre = EvalAsocLegendre4(theta)\n",
        "  AE = {}\n",
        "  e = []\n",
        "  for m in range(l+1):\n",
        "    if (m==0):\n",
        "      e.append((1, 0))\n",
        "    else:\n",
        "      e.append(ExpPhi(phi, (m)))\n",
        "  for k in range(l+1):\n",
        "    for m in range(0, k+1):\n",
        "      coef = math.sqrt(((2*k + 1)*math.factorial(k - (m))) / (4*math.pi * math.factorial(k+(m)))) #Coeficiente de normalización\n",
        "      legendre_normalizado = (coef *  legendre['P_' + str(k) + '_' + str(m)])\n",
        "      AE['Y_' + str(k) + '_' + str(m)] = ( legendre_normalizado * e[m][0], legendre_normalizado * e[m][1])\n",
        "      #lo mismo para \"m\" negativos\n",
        "      coef = math.sqrt(((2*k + 1)*math.factorial(k + (m))) / (4*math.pi * math.factorial(k-(m))))\n",
        "      legendre_normalizado = (coef *  legendre['P_' + str(k) + '_' + str(-m)])\n",
        "      AE['Y_' + str(k) + '_' + str(-m)] = ( legendre_normalizado * e[m][0], legendre_normalizado * (-e[m][1]))\n",
        "\n",
        "  return AE"
      ]
    },
    {
      "attachments": {},
      "cell_type": "markdown",
      "metadata": {},
      "source": [
        "Se calculan los armónicos esféricos utilizando circuitos cuánticos según la propuesta del trabajo. Para cada electrodo se guardan en un archivo los armónicos esféricos calculados. Si se interrumpe el proceso, se recupera la última ejecución según los datos del archivo."
      ]
    },
    {
      "cell_type": "code",
      "execution_count": null,
      "metadata": {},
      "outputs": [
        {
          "data": {
            "text/plain": [
              "{'F2..': [(0.28209479177387814+0j),\n",
              "  (0.18303372251841052+0j),\n",
              "  (-0.2059083956331595-0.2453920702411278j),\n",
              "  (0.2059083956331595-0.2453920702411278j),\n",
              "  (-0.18261477573960364+0j),\n",
              "  (-0.1724783043718558-0.2055516388797168j),\n",
              "  (0.17247830437185582-0.20555163887971686j),\n",
              "  (-0.0576630559705845+0.3270234409895744j),\n",
              "  (-0.0576630559705845-0.3270234409895744j),\n",
              "  (-0.321296193400511+0j),\n",
              "  (0.057464998121026976+0.06848411795915345j),\n",
              "  (-0.057464998121026976+0.06848411795915345j),\n",
              "  (-0.05715077078835502+0.32411812734913675j),\n",
              "  (-0.057150770788355-0.3241181273491367j),\n",
              "  (0.2880031991544722-0.1662787245593079j),\n",
              "  (-0.2880031991544722-0.1662787245593079j),\n",
              "  (-0.05507874744953035+0j),\n",
              "  (0.2131102796672191+0.25397494141216526j),\n",
              "  (-0.2131102796672191+0.25397494141216526j),\n",
              "  (0.0008833625086544224-0.005009797735463719j),\n",
              "  (0.0008833625086544226+0.00500979773546372j),\n",
              "  (0.3236636919844241-0.18686731969411532j),\n",
              "  (-0.323663691984424-0.1868673196941153j),\n",
              "  (-0.30732268467645774-0.11185630953700858j),\n",
              "  (-0.3073226846764577+0.11185630953700855j)]}"
            ]
          },
          "execution_count": 6,
          "metadata": {},
          "output_type": "execute_result"
        }
      ],
      "source": [
        "anglesTmp = {}\n",
        "for x in anglesRad:\n",
        "    anglesTmp[x[0]] = [float(x[1]), float(x[2])]\n",
        "resultadoAE = {}\n",
        "\n",
        "for x in anglesTmp:\n",
        "    xVal = anglesTmp[x]\n",
        "    AE = EvalEsfericos4(xVal[1], xVal[0])\n",
        "    calculadosAE = []\n",
        "    for armonicos in AE.values():\n",
        "        calculadosAE.append(complex(armonicos[0], armonicos[1]))\n",
        "    resultadoAE[x] = calculadosAE\n",
        "    \n",
        "resultadoAE\n",
        "\n",
        "\n",
        "#Antonio, lo que salga aquí copiamelo a un txt (1/3)"
      ]
    },
    {
      "attachments": {},
      "cell_type": "markdown",
      "metadata": {},
      "source": [
        "Se calculan los armónicos esféricos mediante la función correspondiente de la librería \"scipy\" de python. Hay que tener en cuenta que para esta función \"theta\" es la coordenada azimutal y \"phi\" la polar, al revés de lo considerado anteriormente."
      ]
    },
    {
      "cell_type": "code",
      "execution_count": null,
      "metadata": {},
      "outputs": [
        {
          "data": {
            "text/plain": [
              "{'F2..': array([ 0.28209479+0.j        ,  0.18303372+0.j        ,\n",
              "        -0.2059084 -0.24539207j,  0.2059084 -0.24539207j,\n",
              "        -0.18261478+0.j        , -0.1724783 -0.20555164j,\n",
              "         0.1724783 -0.20555164j, -0.05766306+0.32702344j,\n",
              "        -0.05766306-0.32702344j, -0.32129619+0.j        ,\n",
              "         0.057465  +0.06848412j, -0.057465  +0.06848412j,\n",
              "        -0.05715077+0.32411813j, -0.05715077-0.32411813j,\n",
              "         0.2880032 -0.16627872j, -0.2880032 -0.16627872j,\n",
              "        -0.05507875+0.j        ,  0.21311028+0.25397494j,\n",
              "        -0.21311028+0.25397494j,  0.00088336-0.0050098j ,\n",
              "         0.00088336+0.0050098j ,  0.32366369-0.18686732j,\n",
              "        -0.32366369-0.18686732j, -0.30732268-0.11185631j,\n",
              "        -0.30732268+0.11185631j])}"
            ]
          },
          "execution_count": 7,
          "metadata": {},
          "output_type": "execute_result"
        }
      ],
      "source": [
        "nCubits = 4\n",
        "m = []\n",
        "v = []\n",
        "for l in range(nCubits + 1):\n",
        "    for n in range(0, l+1):\n",
        "        m.append(n)\n",
        "        if (n>0):\n",
        "            m.append(-n)\n",
        "            v.append(l)\n",
        "        v.append(l)\n",
        "resultadoSph = {}\n",
        "for x in anglesRad:\n",
        "    resultadoSph[x[0]]= sph_harm(m, v, x[1], x[2])\n",
        "resultadoSph\n",
        "#Antonio, lo que salga aquí copiamelo a un txt (2/3)"
      ]
    },
    {
      "cell_type": "code",
      "execution_count": null,
      "metadata": {},
      "outputs": [
        {
          "data": {
            "text/plain": [
              "{'F2..': array([ 0.00000000e+00+0.00000000e+00j,  1.11022302e-16+0.00000000e+00j,\n",
              "         0.00000000e+00-8.32667268e-17j,  0.00000000e+00-8.32667268e-17j,\n",
              "         1.11022302e-16+0.00000000e+00j, -8.32667268e-17-1.66533454e-16j,\n",
              "         1.38777878e-16-2.49800181e-16j,  0.00000000e+00+5.55111512e-17j,\n",
              "        -1.38777878e-17-1.11022302e-16j, -4.44089210e-16+0.00000000e+00j,\n",
              "         6.24500451e-17+9.71445147e-17j, -6.93889390e-17+1.11022302e-16j,\n",
              "        -6.24500451e-17+3.33066907e-16j, -3.46944695e-17-2.22044605e-16j,\n",
              "         0.00000000e+00+0.00000000e+00j,  0.00000000e+00+0.00000000e+00j,\n",
              "        -1.17961196e-16+0.00000000e+00j,  1.66533454e-16+3.33066907e-16j,\n",
              "        -1.66533454e-16+3.33066907e-16j,  1.32272665e-17-7.63278329e-17j,\n",
              "         1.34441069e-17+7.71951947e-17j,  1.11022302e-16-8.32667268e-17j,\n",
              "        -5.55111512e-17-5.55111512e-17j,  0.00000000e+00-4.16333634e-17j,\n",
              "         0.00000000e+00+2.77555756e-17j])}"
            ]
          },
          "execution_count": 8,
          "metadata": {},
          "output_type": "execute_result"
        }
      ],
      "source": [
        "error = {}\n",
        "for x in resultadoAE:\n",
        "    error[x] = (resultadoAE[x] - resultadoSph[x])\n",
        "error\n",
        "#Antonio, lo que salga aquí copiamelo a un txt (3/3)"
      ]
    },
    {
      "attachments": {},
      "cell_type": "markdown",
      "metadata": {},
      "source": [
        "Se comparan los resultados para obtener el error. Para simplificar se obtendrá el máximo error encontrado."
      ]
    },
    {
      "cell_type": "code",
      "execution_count": null,
      "metadata": {},
      "outputs": [
        {
          "data": {
            "text/plain": [
              "{'F2..': (1.6653345369377348e-16+3.3306690738754696e-16j)}"
            ]
          },
          "execution_count": 9,
          "metadata": {},
          "output_type": "execute_result"
        }
      ],
      "source": [
        "error = {}\n",
        "for x in resultadoAE:\n",
        "    error[x] = max(resultadoAE[x] - resultadoSph[x])\n",
        "error"
      ]
    },
    {
      "attachments": {},
      "cell_type": "markdown",
      "metadata": {},
      "source": [
        "Como se puede observar el máximo error es del orden de $10^{-16}$. Dicho error resulta despreciable y viene dado por la limitación en la precisión de los cálculos realizados mediante la librería \"scipy\"."
      ]
    },
    {
      "cell_type": "code",
      "execution_count": null,
      "metadata": {},
      "outputs": [
        {
          "name": "stdout",
          "output_type": "stream",
          "text": [
            "Electrodos con error superior a 1e-15:\n",
            "-----------------------------------------\n",
            "No hay errores superiores a 1e-15.\n",
            "-----------------------------------------\n"
          ]
        }
      ],
      "source": [
        "tolerancia = 10**(-15)\n",
        "print(\"Electrodos con error superior a \" + str(tolerancia) + \":\")\n",
        "print(\"-----------------------------------------\")\n",
        "noError = True\n",
        "for x in error:\n",
        "    if abs(error[x]) > tolerancia:\n",
        "        print(x + \"-->\" + str(error[x]))\n",
        "        noError = False\n",
        "if noError:\n",
        "    print(\"No hay errores superiores a \" + str(tolerancia) + \".\")\n",
        "print(\"-----------------------------------------\")"
      ]
    }
  ],
  "metadata": {
    "colab": {
      "provenance": []
    },
    "kernelspec": {
      "display_name": "Python 3",
      "name": "python3"
    },
    "language_info": {
      "codemirror_mode": {
        "name": "ipython",
        "version": 3
      },
      "file_extension": ".py",
      "mimetype": "text/x-python",
      "name": "python",
      "nbconvert_exporter": "python",
      "pygments_lexer": "ipython3",
      "version": "3.11.2"
    }
  },
  "nbformat": 4,
  "nbformat_minor": 0
}
