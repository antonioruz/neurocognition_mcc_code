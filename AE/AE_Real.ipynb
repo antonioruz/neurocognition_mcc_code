{
  "cells": [
    {
      "attachments": {},
      "cell_type": "markdown",
      "metadata": {
        "id": "p8HOfNQAnHRF"
      },
      "source": [
        "# Cálculo de armónicos esféricos utilizando computación cuántica.   \n",
        "## TFE: Computación cuántica aplciada al análisis espacial en electroencefalografía - Procesador cuántico Real   \n",
        "## Master universitario en computación cuántica (UNIR)   \n",
        "### Francisco Vidal Requejo   \n",
        "### Antonio José Ruz Hervás   \n",
        "\n",
        "En este notebook se desarrolla el modelo teórico propuesto en el trabajo para la evaluación de armónicos esféricos mediante la utilización de computación cuántica. Se utiliza aquí un procesador cuántico real para realizar el experimento. El resultado se guarda en un el archivo especificado en \"strNombreArchivo\" y se permite la reanudación del experimento donde se quedó.\n",
        "\n",
        "Primeramente, es necesario instalar la librería \"pennylane\", que será utilizada para los circuitos cuánticos."
      ]
    },
    {
      "cell_type": "code",
      "execution_count": 1,
      "metadata": {
        "id": "FS9XCb4rtROI"
      },
      "outputs": [
        {
          "name": "stdout",
          "output_type": "stream",
          "text": [
            "Note: you may need to restart the kernel to use updated packages.\n"
          ]
        },
        {
          "name": "stderr",
          "output_type": "stream",
          "text": [
            "WARNING: Ignoring invalid distribution -ip (c:\\python310\\lib\\site-packages)\n",
            "WARNING: Ignoring invalid distribution -ip (c:\\python310\\lib\\site-packages)\n",
            "WARNING: Ignoring invalid distribution -ip (c:\\python310\\lib\\site-packages)\n",
            "WARNING: Ignoring invalid distribution -ip (c:\\python310\\lib\\site-packages)\n",
            "WARNING: Ignoring invalid distribution -ip (c:\\python310\\lib\\site-packages)\n",
            "WARNING: Ignoring invalid distribution -ip (c:\\python310\\lib\\site-packages)\n"
          ]
        },
        {
          "name": "stdout",
          "output_type": "stream",
          "text": [
            "Note: you may need to restart the kernel to use updated packages.\n"
          ]
        },
        {
          "name": "stderr",
          "output_type": "stream",
          "text": [
            "WARNING: Ignoring invalid distribution -ip (c:\\python310\\lib\\site-packages)\n",
            "WARNING: Ignoring invalid distribution -ip (c:\\python310\\lib\\site-packages)\n",
            "WARNING: Ignoring invalid distribution -ip (c:\\python310\\lib\\site-packages)\n",
            "WARNING: Ignoring invalid distribution -ip (c:\\python310\\lib\\site-packages)\n",
            "WARNING: Ignoring invalid distribution -ip (c:\\python310\\lib\\site-packages)\n",
            "WARNING: Ignoring invalid distribution -ip (c:\\python310\\lib\\site-packages)\n"
          ]
        }
      ],
      "source": [
        "%pip install pennylane > o\n",
        "%pip install pennylane-qiskit > o"
      ]
    },
    {
      "cell_type": "code",
      "execution_count": 2,
      "metadata": {},
      "outputs": [],
      "source": [
        "strNombreArchivo=\"results.csv\"\n",
        "\n"
      ]
    },
    {
      "attachments": {},
      "cell_type": "markdown",
      "metadata": {},
      "source": [
        "Importación de librerías utilizadas en este archivo."
      ]
    },
    {
      "cell_type": "code",
      "execution_count": 3,
      "metadata": {
        "id": "xFhT0Ylnm-Yo"
      },
      "outputs": [],
      "source": [
        "import pennylane as qml\n",
        "from pennylane import numpy as np\n",
        "import math\n",
        "import sympy as sp\n",
        "from scipy.special import lpmv\n",
        "from scipy.special import sph_harm\n",
        "import csv"
      ]
    },
    {
      "attachments": {},
      "cell_type": "markdown",
      "metadata": {},
      "source": [
        "Ángulos utilizados para el cálculo de los armónicos esféricos. La primera coordenada corresponde con la coordenada azimutal y la segunda con la polar. Estos ángulos se corresponden con la posición de 64 electrodos de un EEG utilizando el \"sistema 10-10\" para elegir la posición de los mismos, considerando la cabeza como una esfera."
      ]
    },
    {
      "cell_type": "code",
      "execution_count": 4,
      "metadata": {},
      "outputs": [
        {
          "data": {
            "text/plain": [
              "[['Fc5.', -1.239183768915974, -0.3665191429188092]]"
            ]
          },
          "execution_count": 4,
          "metadata": {},
          "output_type": "execute_result"
        }
      ],
      "source": [
        "angles = [['Fc5.',-71,-21]]#,\n",
        " #['Fc3.',-50,-28],\n",
        " #['Fc1.',-32,-45],\n",
        " #['Fcz.',23,90],\n",
        " #['Fc2.',32,45],\n",
        " #['Fc4.',50,28],\n",
        " #['Fc6.',71,21],\n",
        " #['C5..',-69,0],\n",
        " #['C3..',-46,0],\n",
        " #['C1..',23,0],\n",
        " #['Cz..',0,0],\n",
        " #['C2..',23,0],\n",
        " #['C4..',46,0],\n",
        " #['C6..',69,0],\n",
        " #['Cp5.',-71,21],\n",
        " #['Cp3.',-50,28],\n",
        " #['Cp1.',-32,45],\n",
        " #['Cpz.',23,-90],\n",
        " #['Cp2.',32,-45],\n",
        " #['Cp4.',50,-28],\n",
        " #['Cp6.',71,-21],\n",
        " #['Fp1.',-92,-72],\n",
        " #['Fpz.',92,90],\n",
        " #['Fp2.',92,72],\n",
        " #['Af7.',-92,-52],\n",
        " #['Af3.',-74,-67],\n",
        " #['Afz.',69,90],\n",
        " #['Af4.',74,67],\n",
        " #['Af8.',92,52],\n",
        " #['F7..',-92,-36],\n",
        " #['F5..',-75,-41],\n",
        " #['F3..',-60,-51],\n",
        " #['F1..',-50,-68],\n",
        " #['Fz..',46,90],\n",
        " #['F2..',50,68],\n",
        " #['F4..',60,51],\n",
        " #['F6..',75,41],\n",
        " #['F8..',92,36],\n",
        " #['Ft7.',-92,-18],\n",
        " #['Ft8.',92,18],\n",
        " #['T7..',-92,0],\n",
        " #['T8..',92,0],\n",
        " #['T9..',-115,0],\n",
        " #['T10.',115,0],\n",
        " #['Tp7.',-92,18],\n",
        " #['Tp8.',92,-18],\n",
        " #['P7..',-92,36],\n",
        " #['P5..',-75,41],\n",
        " #['P3..',-60,51],\n",
        " #['P1..',-50,68],\n",
        " #['Pz..',46,-90],\n",
        " #['P2..',50,-68],\n",
        " #['P4..',60,-51],\n",
        " #['P6..',75,-41],\n",
        " #['P8..',92,-36],\n",
        " #['Po7.',-92,54],\n",
        " #['Po3.',-74,67],\n",
        " #['Poz.',69,-90],\n",
        " #['Po4.',74,-67],\n",
        " #['Po8.',92,-54],\n",
        " #['O1..',-92,72],\n",
        " #['Oz..',92,-90],\n",
        " #['O2..',92,-72],\n",
        " #['Iz..',115,-90]\n",
        " #]\n",
        "\n",
        "#Versión de los ángulos en radianes.\n",
        "anglesRad = []\n",
        "piFactor = math.pi/180\n",
        "for x in angles:\n",
        "    anglesRad.append([x[0], x[1] * piFactor, x[2] * piFactor])\n",
        "anglesRad"
      ]
    },
    {
      "cell_type": "code",
      "execution_count": 31,
      "metadata": {
        "id": "VdDJ-dkOorDS"
      },
      "outputs": [],
      "source": [
        "nCubits = 4\n",
        "nShots = 20000\n",
        "strDevice = \"qiskit.ibmq\"\n",
        "strBackend=\"ibmq_belem\"\n",
        "strToken=\"7a60a88cb869db32476e0939ad7d1cecfeeff8d58659acccd3d7836f0a2979e6992786fe258164ec12c3217ca0b233781f65cce5e8ee4e9046c24b7e3b028768\"\n",
        "dev = qml.device (\"default.qubit\", wires = nCubits)\n",
        "#dev = qml.device (strDevice, backend=strBackend, ibmqx_token=strToken, wires = nCubits, shots = nShots)\n",
        "\n",
        "@qml.qnode(dev)\n",
        "def CircuitoCoseno(theta, nCubits = 3):\n",
        "  \"\"\"\n",
        "  Implementar un circuito cuántico con una puerta de ratación sobre el eje Y para todos los cúbits. El mismo ángulo se aplica a todos los cúbits.\n",
        "  Parámetros:\n",
        "    theta: Ángulo en radianes que se quiere aplicar en una rotación sobre el eje Y.\n",
        "    nCubits: Cantidad de cúbits del circuito\n",
        "\n",
        "  Retorno:\n",
        "    Array de probabilidades de cada uno de los estados.\n",
        "  \"\"\"\n",
        "  for i in range(nCubits):\n",
        "    qml.RY(theta, wires = i)\n",
        "  return qml.probs(wires=range(nCubits))\n",
        "\n",
        "def CircuitoSeno(theta, nCubits=3):\n",
        "  \"\"\"\n",
        "  Implementar un circuito cuántico con una puerta de rotación de pi/2 - theta sobre el eje Y para todos los cúbits. El mismo ángulo se aplica a todos los cúbits.\n",
        "  Parámetros:\n",
        "    theta: Ángulo en radianes que se quiere aplicar como una rotación pi/2 - theta sobre el eje Y.\n",
        "    nCubits: Cantidad de cúbits del circuito\n",
        "\n",
        "  Retorno:\n",
        "    Array de probabilidades de cada uno de los estados.\n",
        "  \"\"\"\n",
        "  return CircuitoCoseno((math.pi/2) - theta, nCubits)\n",
        "\n",
        "def ExpPhi(phi, m):\n",
        "  \"\"\"\n",
        "  Obtener el valor en coordenadas cartesianas de un número complejo en forma polar de la manera e^{im} a través de dos circuitos cuánticos de un único cúbit utilizando la igualdad e^{im} = cos(im) + i·sen(im) .\n",
        "\n",
        "  Parámetros:\n",
        "    phi: el ángulo base\n",
        "    m: valor a multiplicar al ángulo.\n",
        "\n",
        "  Retorno:\n",
        "    Una tupla con el valor real e imagino del número complejo en coordenadas cartesianas.\n",
        "  \"\"\"\n",
        "  C = CircuitoCoseno(phi * m, 1)\n",
        "  S = CircuitoSeno(phi * m, 1)\n",
        "  return (C[0] - C[1], S[0] - S[1])\n",
        "\n",
        "\n",
        "def EvalAsocLegendre4(theta):\n",
        "  \"\"\"\n",
        "  Evaluar los Polinomios asociados de legendre en un ángulo dado utilizando un circutio de 4 cúbits. Esto generará todos los polinomios asociados de Legendre hasta l = 4.\n",
        "\n",
        "  Parámetros: \n",
        "    theta: ángulo en radiantes sobre el cual calcular los polinomios asociados de Legendre.\n",
        "\n",
        "  Retorno:\n",
        "    Un diccionario en el que cada elemento tiene una etiqueta de la forma \"P_l_m\" indicando el polinomio asociado de Legendre al que hace referencia y cuyo valor es el resultado de la evaluación de dicho polinómio sobre el ángulo dado.\n",
        "  \"\"\"\n",
        "  nCubits = 4\n",
        "  C = CircuitoCoseno(abs(theta), nCubits) #importante que el ángulo sea siempre positivo.\n",
        "  S = CircuitoSeno(abs(theta), nCubits)\n",
        "  PolinomiosLegendre = {'P_0_0': 1}\n",
        "  PolinomiosLegendre['P_1_0']= C[0] + 2*C[1] -2*C[7] -C[15]\n",
        "  PolinomiosLegendre['P_1_1']= -S[0] - 2*S[1] + 2*S[7] + S[15]\n",
        "  PolinomiosLegendre['P_2_0']= (3*(C[0] - 2*C[3] + C[15]) - 1)/2\n",
        "  PolinomiosLegendre['P_2_1']= 3*(C[0] + 2*C[1] - 2*C[7] - C[15])*(-S[0] -2*S[1] + 2*S[7] + S[15])\n",
        "  PolinomiosLegendre['P_2_2']= 3*(S[0] - 2*S[3] + S[15])\n",
        "  PolinomiosLegendre['P_3_0']= C[0] - 8*C[1] + 8*C[7] - C[15]\n",
        "  PolinomiosLegendre['P_3_1']= -(3/2)*(-S[0] + 18*S[1] -18*S[7] + S[15])\n",
        "  PolinomiosLegendre['P_3_2']= 15*(4*C[1] - 4*C[7])\n",
        "  PolinomiosLegendre['P_3_3']= -15*(S[0] -2*S[1] + 2*S[7] - S[15])\n",
        "  PolinomiosLegendre['P_4_0']= (1/8)*(5*C[0] - 140*C[1] + 270*C[3] -140*C[7] + 5*C[15] + 3)\n",
        "  PolinomiosLegendre['P_4_1']= -(5/2)*(7*(C[0] +2*C[1] -2*C[7] - C[15])*(4*S[1]-4*S[7]) + 3*(C[0]+2*C[1]-2*C[7]-C[15])*(-S[0]-2*S[1]+2*S[7]+S[15]))\n",
        "  PolinomiosLegendre['P_4_2'] = (15/2)*(56*C[1] - 112*C[3] + 56*C[7] - S[0] - 28*S[1] + 58*S[3] - 28*S[7] - S[15])\n",
        "  PolinomiosLegendre['P_4_3'] = -105*(C[0] + 2*C[1] - 2*C[7] - C[15])*(S[0] - 2*S[1] + 2*S[7] - S[15])\n",
        "  PolinomiosLegendre['P_4_4'] = 105*(S[0] - 4*S[1] + 6*S[3] - 4*S[7] + S[15])\n",
        "\n",
        "  #Polinomios de \"m\" negativo\n",
        "  for l in range(1, nCubits + 1):\n",
        "    for m in range(1, l+1):\n",
        "      PolinomiosLegendre['P_' + str(l) + '_-' + str(m)] = ((-1)**(m) * (math.factorial(l-m)/math.factorial(l+m))) * PolinomiosLegendre['P_' + str(l) + '_' + str(m)]\n",
        "  return PolinomiosLegendre\n",
        "\n",
        "def EvalEsfericos4(theta, phi):\n",
        "  \"\"\"\n",
        "  Realiza la evaluación de armónicos esféricos mediante cirucitos cuánticos de 4 cubits. Se obtiene el resultado de evalluar los armónicos esféricos para los ángulos dados hasta l = 4.\n",
        "\n",
        "  Parámetros:\n",
        "    theta: ángulo én radianes de la coordenada polar.\n",
        "    phi: ángulo en radianes de la coordenada azimutal.\n",
        "\n",
        "  Retorno:\n",
        "    Un diccionario en el que cada elemento tiene una etiqueta de la forma \"Y_l_m\" indicando el armónico esférico al que hace referencia y cuyo valor es el resultado de la evaluación de dicho armónico esféricos sobre los ángulos dados.\n",
        "  \"\"\"\n",
        "  l = 4\n",
        "  legendre = EvalAsocLegendre4(theta)\n",
        "  AE = {}\n",
        "  for k in range(l+1):\n",
        "    for m in range(0, k+1):\n",
        "      coef = math.sqrt(((2*k + 1)*math.factorial(k - (m))) / (4*math.pi * math.factorial(k+(m)))) #Coeficiente de normalización\n",
        "      e = ExpPhi(phi, (m))\n",
        "      legendre_normalizado = (coef *  legendre['P_' + str(k) + '_' + str(m)])\n",
        "      AE['Y_' + str(k) + '_' + str(m)] = ( legendre_normalizado * e[0], legendre_normalizado * e[1])\n",
        "      #lo mismo para \"m\" negativos\n",
        "      coef = math.sqrt(((2*k + 1)*math.factorial(k + (m))) / (4*math.pi * math.factorial(k-(m))))\n",
        "      legendre_normalizado = (coef *  legendre['P_' + str(k) + '_' + str(-m)])\n",
        "      AE['Y_' + str(k) + '_' + str(-m)] = ( legendre_normalizado * e[0], legendre_normalizado * (-e[1]))\n",
        "      print('Y_' + str(k) + '_' + str(m) + \"=\" + str(complex(AE['Y_' + str(k) + '_' + str(m)][0], AE['Y_' + str(k) + '_' + str(m)][1])))\n",
        "      print('Y_' + str(k) + '_' + str(-m) + \"=\" + str(complex(AE['Y_' + str(k) + '_' + str(-m)][0], AE['Y_' + str(k) + '_' + str(-m)][1])))\n",
        "\n",
        "  return AE"
      ]
    },
    {
      "attachments": {},
      "cell_type": "markdown",
      "metadata": {},
      "source": [
        "Se calculan los armónicos esféricos utilizando circuitos cuánticos según la propuesta del trabajo. Para cada electrodo se guardan en un archivo los armónicos esféricos calculados. Si se interrumpe el proceso, se recupera la última ejecución según los datos del archivo."
      ]
    },
    {
      "cell_type": "code",
      "execution_count": 32,
      "metadata": {},
      "outputs": [
        {
          "name": "stdout",
          "output_type": "stream",
          "text": [
            "Y_0_0=(0.28209479177387814+0j)\n",
            "Y_0_0=(0.28209479177387814+0j)\n",
            "Y_1_0=(0.45614974144993226+0j)\n",
            "Y_1_0=(0.45614974144993226+0j)\n",
            "Y_1_1=(-0.040309905218891474+0.11706846521478607j)\n",
            "Y_1_-1=(0.040309905218891474+0.11706846521478607j)\n",
            "Y_2_0=(0.5092681972011995+0j)\n",
            "Y_2_0=(0.5092681972011995+0j)\n",
            "Y_2_1=(-0.0841489142659976+0.24438619215592053j)\n",
            "Y_2_-1=(0.0841489142659976+0.24438619215592053j)\n",
            "Y_2_2=(-0.03909184533201211-0.030541896871524782j)\n",
            "Y_2_-2=(-0.03909184533201212+0.030541896871524785j)\n",
            "Y_3_0=(0.4730657269580536+0j)\n",
            "Y_3_0=(0.4730657269580536+0j)\n",
            "Y_3_1=(-0.12661310386519556+0.3677111535015998j)\n",
            "Y_3_-1=(0.12661310386519553+0.3677111535015997j)\n",
            "Y_3_2=(-0.09655770381554232-0.07543914611957604j)\n",
            "Y_3_-2=(-0.09655770381554231+0.07543914611957603j)\n",
            "Y_3_3=(0.01610452747246995-0.010458402425479888j)\n",
            "Y_3_-3=(-0.016104527472469952-0.01045840242547989j)\n",
            "Y_4_0=(0.36392069764594415+0j)\n",
            "Y_4_0=(0.36392069764594415+0j)\n",
            "Y_4_1=(-0.1597963598075412+0.46408232636606095j)\n",
            "Y_4_-1=(0.15979635980754123+0.464082326366061j)\n",
            "Y_4_2=(-0.17269219656629461-0.1349219309871187j)\n",
            "Y_4_-2=(-0.17269219656629464+0.1349219309871187j)\n",
            "Y_4_3=(0.04510461487885323-0.029291279390576668j)\n",
            "Y_4_-3=(-0.04510461487885322-0.029291279390576665j)\n",
            "Y_4_4=(0.0017657824014221703+0.007082166388397187j)\n",
            "Y_4_-4=(0.0017657824014221698-0.007082166388397185j)\n"
          ]
        },
        {
          "data": {
            "text/plain": [
              "{'Fc5.': [(0.28209479177387814+0j),\n",
              "  (0.45614974144993226+0j),\n",
              "  (-0.040309905218891474+0.11706846521478607j),\n",
              "  (0.040309905218891474+0.11706846521478607j),\n",
              "  (0.5092681972011995+0j),\n",
              "  (-0.0841489142659976+0.24438619215592053j),\n",
              "  (0.0841489142659976+0.24438619215592053j),\n",
              "  (-0.03909184533201211-0.030541896871524782j),\n",
              "  (-0.03909184533201212+0.030541896871524785j),\n",
              "  (0.4730657269580536+0j),\n",
              "  (-0.12661310386519556+0.3677111535015998j),\n",
              "  (0.12661310386519553+0.3677111535015997j),\n",
              "  (-0.09655770381554232-0.07543914611957604j),\n",
              "  (-0.09655770381554231+0.07543914611957603j),\n",
              "  (0.01610452747246995-0.010458402425479888j),\n",
              "  (-0.016104527472469952-0.01045840242547989j),\n",
              "  (0.36392069764594415+0j),\n",
              "  (-0.1597963598075412+0.46408232636606095j),\n",
              "  (0.15979635980754123+0.464082326366061j),\n",
              "  (-0.17269219656629461-0.1349219309871187j),\n",
              "  (-0.17269219656629464+0.1349219309871187j),\n",
              "  (0.04510461487885323-0.029291279390576668j),\n",
              "  (-0.04510461487885322-0.029291279390576665j),\n",
              "  (0.0017657824014221703+0.007082166388397187j),\n",
              "  (0.0017657824014221698-0.007082166388397185j)]}"
            ]
          },
          "execution_count": 32,
          "metadata": {},
          "output_type": "execute_result"
        }
      ],
      "source": [
        "anglesTmp = {}\n",
        "for x in anglesRad:\n",
        "    anglesTmp[x[0]] = [float(x[1]), float(x[2])]\n",
        "resultadoAE = {}\n",
        "\n",
        "for x in anglesTmp:\n",
        "    xVal = anglesTmp[x]\n",
        "    AE = EvalEsfericos4(xVal[1], xVal[0])\n",
        "    calculadosAE = []\n",
        "    for armonicos in AE.values():\n",
        "        calculadosAE.append(complex(armonicos[0], armonicos[1]))\n",
        "    resultadoAE[x] = calculadosAE\n",
        "    \n",
        "resultadoAE\n"
      ]
    },
    {
      "cell_type": "code",
      "execution_count": 33,
      "metadata": {},
      "outputs": [
        {
          "name": "stdout",
          "output_type": "stream",
          "text": [
            "Y_0_0\n",
            "Y_1_0\n",
            "Y_1_1\n",
            "Y_1_-1\n",
            "Y_2_0\n",
            "Y_2_1\n",
            "Y_2_-1\n",
            "Y_2_2\n",
            "Y_2_-2\n",
            "Y_3_0\n",
            "Y_3_1\n",
            "Y_3_-1\n",
            "Y_3_2\n",
            "Y_3_-2\n",
            "Y_3_3\n",
            "Y_3_-3\n",
            "Y_4_0\n",
            "Y_4_1\n",
            "Y_4_-1\n",
            "Y_4_2\n",
            "Y_4_-2\n",
            "Y_4_3\n",
            "Y_4_-3\n",
            "Y_4_4\n",
            "Y_4_-4\n"
          ]
        }
      ],
      "source": [
        "for i in AE:\n",
        "    print(i)"
      ]
    },
    {
      "attachments": {},
      "cell_type": "markdown",
      "metadata": {},
      "source": [
        "Se calculan los armónicos esféricos mediante la función correspondiente de la librería \"scipy\" de python. Hay que tener en cuenta que para esta función \"theta\" es la coordenada azimutal y \"phi\" la polar, al revés de lo considerado anteriormente."
      ]
    },
    {
      "cell_type": "code",
      "execution_count": 34,
      "metadata": {},
      "outputs": [
        {
          "data": {
            "text/plain": [
              "{'Fc5.': array([ 0.28209479+0.j        ,  0.45614974+0.j        ,\n",
              "        -0.04030991+0.11706847j,  0.04030991+0.11706847j,\n",
              "         0.5092682 +0.j        , -0.08414891+0.24438619j,\n",
              "         0.08414891+0.24438619j, -0.03909185-0.0305419j ,\n",
              "        -0.03909185+0.0305419j ,  0.47306573+0.j        ,\n",
              "        -0.1266131 +0.36771115j,  0.1266131 +0.36771115j,\n",
              "        -0.0965577 -0.07543915j, -0.0965577 +0.07543915j,\n",
              "         0.01610453-0.0104584j , -0.01610453-0.0104584j ,\n",
              "         0.3639207 +0.j        , -0.15979636+0.46408233j,\n",
              "         0.15979636+0.46408233j, -0.1726922 -0.13492193j,\n",
              "        -0.1726922 +0.13492193j,  0.04510461-0.02929128j,\n",
              "        -0.04510461-0.02929128j,  0.00176578+0.00708217j,\n",
              "         0.00176578-0.00708217j])}"
            ]
          },
          "execution_count": 34,
          "metadata": {},
          "output_type": "execute_result"
        }
      ],
      "source": [
        "nCubits = 4\n",
        "m = []\n",
        "v = []\n",
        "for l in range(nCubits + 1):\n",
        "    for n in range(0, l+1):\n",
        "        m.append(n)\n",
        "        if (n>0):\n",
        "            m.append(-n)\n",
        "            v.append(l)\n",
        "        v.append(l)\n",
        "resultadoSph = {}\n",
        "for x in anglesRad:\n",
        "    resultadoSph[x[0]]= sph_harm(m, v, x[1], x[2])\n",
        "resultadoSph"
      ]
    },
    {
      "attachments": {},
      "cell_type": "markdown",
      "metadata": {},
      "source": [
        "Se comparan los resultados para obtener el error. Para simplificar se obtendrá el máximo error encontrado."
      ]
    },
    {
      "cell_type": "code",
      "execution_count": 35,
      "metadata": {},
      "outputs": [
        {
          "data": {
            "text/plain": [
              "{'Fc5.': (3.3306690738754696e-16+0j)}"
            ]
          },
          "execution_count": 35,
          "metadata": {},
          "output_type": "execute_result"
        }
      ],
      "source": [
        "error = {}\n",
        "for x in resultadoAE:\n",
        "    error[x] = max(resultadoAE[x] - resultadoSph[x])\n",
        "error"
      ]
    },
    {
      "attachments": {},
      "cell_type": "markdown",
      "metadata": {},
      "source": [
        "Como se puede observar el máximo error es del orden de $10^{-16}$. Dicho error resulta despreciable y viene dado por la limitación en la precisión de los cálculos realizados mediante la librería \"scipy\"."
      ]
    },
    {
      "cell_type": "code",
      "execution_count": 36,
      "metadata": {},
      "outputs": [
        {
          "name": "stdout",
          "output_type": "stream",
          "text": [
            "Electrodos con error superior a 1e-15:\n",
            "-----------------------------------------\n",
            "No hay errores superiores a 1e-15.\n",
            "-----------------------------------------\n"
          ]
        }
      ],
      "source": [
        "tolerancia = 10**(-15)\n",
        "print(\"Electrodos con error superior a \" + str(tolerancia) + \":\")\n",
        "print(\"-----------------------------------------\")\n",
        "noError = True\n",
        "for x in error:\n",
        "    if abs(error[x]) > tolerancia:\n",
        "        print(x + \"-->\" + str(error[x]))\n",
        "        noError = False\n",
        "if noError:\n",
        "    print(\"No hay errores superiores a \" + str(tolerancia) + \".\")\n",
        "print(\"-----------------------------------------\")"
      ]
    }
  ],
  "metadata": {
    "colab": {
      "provenance": []
    },
    "kernelspec": {
      "display_name": "Python 3",
      "name": "python3"
    },
    "language_info": {
      "codemirror_mode": {
        "name": "ipython",
        "version": 3
      },
      "file_extension": ".py",
      "mimetype": "text/x-python",
      "name": "python",
      "nbconvert_exporter": "python",
      "pygments_lexer": "ipython3",
      "version": "3.10.7"
    }
  },
  "nbformat": 4,
  "nbformat_minor": 0
}
